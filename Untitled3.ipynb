{
 "cells": [
  {
   "cell_type": "code",
   "execution_count": 2,
   "id": "5b4db55a",
   "metadata": {},
   "outputs": [],
   "source": [
    "import pandas as pd\n",
    "import numpy as np"
   ]
  },
  {
   "cell_type": "code",
   "execution_count": 17,
   "id": "5ea1f3d2",
   "metadata": {},
   "outputs": [],
   "source": [
    "data= pn.read_csv(\"penguins.csv\")"
   ]
  },
  {
   "cell_type": "code",
   "execution_count": 18,
   "id": "00b27c07",
   "metadata": {},
   "outputs": [
    {
     "data": {
      "text/html": [
       "<div>\n",
       "<style scoped>\n",
       "    .dataframe tbody tr th:only-of-type {\n",
       "        vertical-align: middle;\n",
       "    }\n",
       "\n",
       "    .dataframe tbody tr th {\n",
       "        vertical-align: top;\n",
       "    }\n",
       "\n",
       "    .dataframe thead th {\n",
       "        text-align: right;\n",
       "    }\n",
       "</style>\n",
       "<table border=\"1\" class=\"dataframe\">\n",
       "  <thead>\n",
       "    <tr style=\"text-align: right;\">\n",
       "      <th></th>\n",
       "      <th>species</th>\n",
       "      <th>island</th>\n",
       "      <th>bill_length_mm</th>\n",
       "      <th>bill_depth_mm</th>\n",
       "      <th>flipper_length_mm</th>\n",
       "      <th>body_mass_g</th>\n",
       "      <th>sex</th>\n",
       "      <th>year</th>\n",
       "    </tr>\n",
       "  </thead>\n",
       "  <tbody>\n",
       "    <tr>\n",
       "      <th>0</th>\n",
       "      <td>Chinstrap</td>\n",
       "      <td>Dream</td>\n",
       "      <td>40.9</td>\n",
       "      <td>16.6</td>\n",
       "      <td>187.0</td>\n",
       "      <td>3200.0</td>\n",
       "      <td>female</td>\n",
       "      <td>2008</td>\n",
       "    </tr>\n",
       "    <tr>\n",
       "      <th>1</th>\n",
       "      <td>Adelie</td>\n",
       "      <td>Dream</td>\n",
       "      <td>36.5</td>\n",
       "      <td>18.0</td>\n",
       "      <td>182.0</td>\n",
       "      <td>3150.0</td>\n",
       "      <td>female</td>\n",
       "      <td>2007</td>\n",
       "    </tr>\n",
       "    <tr>\n",
       "      <th>2</th>\n",
       "      <td>Chinstrap</td>\n",
       "      <td>Dream</td>\n",
       "      <td>46.5</td>\n",
       "      <td>17.9</td>\n",
       "      <td>192.0</td>\n",
       "      <td>3500.0</td>\n",
       "      <td>female</td>\n",
       "      <td>2007</td>\n",
       "    </tr>\n",
       "    <tr>\n",
       "      <th>3</th>\n",
       "      <td>Gentoo</td>\n",
       "      <td>Biscoe</td>\n",
       "      <td>54.3</td>\n",
       "      <td>15.7</td>\n",
       "      <td>231.0</td>\n",
       "      <td>5650.0</td>\n",
       "      <td>male</td>\n",
       "      <td>2008</td>\n",
       "    </tr>\n",
       "    <tr>\n",
       "      <th>4</th>\n",
       "      <td>Gentoo</td>\n",
       "      <td>Biscoe</td>\n",
       "      <td>46.3</td>\n",
       "      <td>15.8</td>\n",
       "      <td>215.0</td>\n",
       "      <td>5050.0</td>\n",
       "      <td>male</td>\n",
       "      <td>2007</td>\n",
       "    </tr>\n",
       "  </tbody>\n",
       "</table>\n",
       "</div>"
      ],
      "text/plain": [
       "     species  island  bill_length_mm  bill_depth_mm  flipper_length_mm  \\\n",
       "0  Chinstrap   Dream            40.9           16.6              187.0   \n",
       "1     Adelie   Dream            36.5           18.0              182.0   \n",
       "2  Chinstrap   Dream            46.5           17.9              192.0   \n",
       "3     Gentoo  Biscoe            54.3           15.7              231.0   \n",
       "4     Gentoo  Biscoe            46.3           15.8              215.0   \n",
       "\n",
       "   body_mass_g     sex  year  \n",
       "0       3200.0  female  2008  \n",
       "1       3150.0  female  2007  \n",
       "2       3500.0  female  2007  \n",
       "3       5650.0    male  2008  \n",
       "4       5050.0    male  2007  "
      ]
     },
     "execution_count": 18,
     "metadata": {},
     "output_type": "execute_result"
    }
   ],
   "source": [
    "data.head()"
   ]
  },
  {
   "cell_type": "code",
   "execution_count": 19,
   "id": "03ea9e39",
   "metadata": {},
   "outputs": [],
   "source": [
    "from sklearn.linear_model import LinearRegression"
   ]
  },
  {
   "cell_type": "code",
   "execution_count": 20,
   "id": "b6be0a20",
   "metadata": {},
   "outputs": [],
   "source": [
    "reg = LinearRegression()"
   ]
  },
  {
   "cell_type": "code",
   "execution_count": 21,
   "id": "01e100cb",
   "metadata": {},
   "outputs": [
    {
     "data": {
      "text/plain": [
       "LinearRegression()"
      ]
     },
     "execution_count": 21,
     "metadata": {},
     "output_type": "execute_result"
    }
   ],
   "source": [
    "X = data['bill_length_mm'].values.reshape(-1, 1)\n",
    "y = data['body_mass_g']\n",
    "reg.fit(X, y)"
   ]
  },
  {
   "cell_type": "code",
   "execution_count": 23,
   "id": "b82ca98e",
   "metadata": {},
   "outputs": [
    {
     "data": {
      "text/plain": [
       "0.3474526112888374"
      ]
     },
     "execution_count": 23,
     "metadata": {},
     "output_type": "execute_result"
    }
   ],
   "source": [
    "reg.score(X, y)"
   ]
  },
  {
   "cell_type": "code",
   "execution_count": 24,
   "id": "2e1eb403",
   "metadata": {},
   "outputs": [
    {
     "data": {
      "text/plain": [
       "LinearRegression()"
      ]
     },
     "execution_count": 24,
     "metadata": {},
     "output_type": "execute_result"
    }
   ],
   "source": [
    "X= data['bill_depth_mm']. values.reshape(-1, 1)\n",
    "y= data['body_mass_g']\n",
    "reg.fit(X, y)"
   ]
  },
  {
   "cell_type": "code",
   "execution_count": 25,
   "id": "709835f0",
   "metadata": {},
   "outputs": [
    {
     "data": {
      "text/plain": [
       "0.22279878346945314"
      ]
     },
     "execution_count": 25,
     "metadata": {},
     "output_type": "execute_result"
    }
   ],
   "source": [
    "reg.score(X, y)"
   ]
  },
  {
   "cell_type": "code",
   "execution_count": 26,
   "id": "35cb5c8d",
   "metadata": {},
   "outputs": [
    {
     "data": {
      "text/plain": [
       "LinearRegression()"
      ]
     },
     "execution_count": 26,
     "metadata": {},
     "output_type": "execute_result"
    }
   ],
   "source": [
    "X= data['flipper_length_mm']. values.reshape(-1, 1)\n",
    "y= data['body_mass_g']\n",
    "reg.fit(X, y)"
   ]
  },
  {
   "cell_type": "code",
   "execution_count": 28,
   "id": "f935de46",
   "metadata": {},
   "outputs": [
    {
     "data": {
      "text/plain": [
       "0.7620921573403913"
      ]
     },
     "execution_count": 28,
     "metadata": {},
     "output_type": "execute_result"
    }
   ],
   "source": [
    "reg.score(X, y)"
   ]
  },
  {
   "cell_type": "code",
   "execution_count": 47,
   "id": "ce44977b",
   "metadata": {},
   "outputs": [],
   "source": [
    "#y= data['body_mass_g']\n",
    "#from sklearn.preprocessing import MinMaxScaler\n",
    "\n",
    "#scaler = MinMaxScaler()\n",
    "\n",
    "##X = scaler.fit_transform(data[['bill_length_mm','bill_depth_mm','flipper_length_mm']])"
   ]
  },
  {
   "cell_type": "code",
   "execution_count": 48,
   "id": "e11f7ce3",
   "metadata": {},
   "outputs": [],
   "source": [
    "##reg = LinearRegression()"
   ]
  },
  {
   "cell_type": "raw",
   "id": "d3c7d926",
   "metadata": {},
   "source": [
    "#reg.fit(X, y)"
   ]
  },
  {
   "cell_type": "code",
   "execution_count": 49,
   "id": "077dc3c2",
   "metadata": {},
   "outputs": [
    {
     "name": "stdout",
     "output_type": "stream",
     "text": [
      "RMSE: 152597.33274339672\n",
      "MAPE: 0.07718264712272081\n"
     ]
    }
   ],
   "source": [
    "y = data['body_mass_g']\n",
    "\n",
    "from sklearn.preprocessing import MinMaxScaler\n",
    "\n",
    "scaler = MinMaxScaler()\n",
    "\n",
    "X = scaler.fit_transform(data[['bill_length_mm','bill_depth_mm','flipper_length_mm']])\n",
    "\n",
    "reg = LinearRegression()\n",
    "\n",
    "reg.fit(X, y)\n",
    "\n",
    "\n",
    "y_pred = reg.predict(X)\n",
    "\n",
    "from sklearn.metrics import mean_squared_error, mean_absolute_percentage_error\n",
    "\n",
    "print(f\"RMSE: {mean_squared_error(y, y_pred)}\")\n",
    "\n",
    "print(f\"MAPE: {mean_absolute_percentage_error(y, y_pred)}\")"
   ]
  },
  {
   "cell_type": "code",
   "execution_count": 50,
   "id": "99d398d8",
   "metadata": {},
   "outputs": [
    {
     "name": "stdout",
     "output_type": "stream",
     "text": [
      "--\n",
      " Adelie 0.506424944439383\n",
      "RMSE: 103103.77927187759\n",
      "MAPE: 0.0688582880470465\n",
      "--\n",
      " Gentoo 0.6280736371428206\n",
      "RMSE: 92745.44334404981\n",
      "MAPE: 0.047198617576817606\n",
      "--\n",
      " Chinstrap 0.5038143982587501\n",
      "RMSE: 72215.44695584573\n",
      "MAPE: 0.05660976676978927\n"
     ]
    }
   ],
   "source": [
    "scaler = MinMaxScaler()\n",
    "\n",
    "reg = LinearRegression()\n",
    "\n",
    "for espece in ['Adelie', 'Gentoo', 'Chinstrap']:\n",
    "\n",
    "    df = data[data.species == espece].copy()\n",
    "\n",
    "    y = df['body_mass_g']\n",
    "\n",
    "    X = scaler.fit_transform(df[['bill_length_mm','bill_depth_mm','flipper_length_mm']])\n",
    "\n",
    "    reg.fit(X, y)\n",
    "\n",
    "    print(\"--\\n\",espece, reg.score(X, y))\n",
    "\n",
    "\n",
    "    y_pred = reg.predict(X)\n",
    "\n",
    "    print(f\"RMSE: {mean_squared_error(y, y_pred)}\")\n",
    "\n",
    "    print(f\"MAPE: {mean_absolute_percentage_error(y, y_pred)}\")"
   ]
  },
  {
   "cell_type": "code",
   "execution_count": 51,
   "id": "5f56b199",
   "metadata": {},
   "outputs": [],
   "source": [
    "scaler = MinMaxScaler()\n",
    "\n",
    "y = data['body_mass_g']\n",
    "\n",
    "X = scaler.fit_transform(data[['bill_length_mm','bill_depth_mm','flipper_length_mm']])\n",
    "\n",
    "reg = LinearRegression()"
   ]
  },
  {
   "cell_type": "code",
   "execution_count": 75,
   "id": "38ddc312",
   "metadata": {},
   "outputs": [],
   "source": [
    "score = []"
   ]
  },
  {
   "cell_type": "code",
   "execution_count": 80,
   "id": "a03cab51",
   "metadata": {},
   "outputs": [
    {
     "ename": "NameError",
     "evalue": "name 'test_size' is not defined",
     "output_type": "error",
     "traceback": [
      "\u001b[0;31m---------------------------------------------------------------------------\u001b[0m",
      "\u001b[0;31mNameError\u001b[0m                                 Traceback (most recent call last)",
      "\u001b[0;32m<ipython-input-80-a6d6f001c04d>\u001b[0m in \u001b[0;36m<module>\u001b[0;34m\u001b[0m\n\u001b[1;32m      6\u001b[0m       \u001b[0mreg\u001b[0m\u001b[0;34m.\u001b[0m\u001b[0mfit\u001b[0m\u001b[0;34m(\u001b[0m\u001b[0mX_train\u001b[0m\u001b[0;34m,\u001b[0m \u001b[0my_train\u001b[0m\u001b[0;34m)\u001b[0m\u001b[0;34m\u001b[0m\u001b[0;34m\u001b[0m\u001b[0m\n\u001b[1;32m      7\u001b[0m \u001b[0;34m\u001b[0m\u001b[0m\n\u001b[0;32m----> 8\u001b[0;31m       \u001b[0mprint\u001b[0m\u001b[0;34m(\u001b[0m\u001b[0;34m\"--\\n\"\u001b[0m\u001b[0;34m,\u001b[0m\u001b[0mtest_size\u001b[0m\u001b[0;34m,\u001b[0m \u001b[0mreg\u001b[0m\u001b[0;34m.\u001b[0m\u001b[0mscore\u001b[0m\u001b[0;34m(\u001b[0m\u001b[0mX_test\u001b[0m\u001b[0;34m,\u001b[0m \u001b[0my_test\u001b[0m\u001b[0;34m)\u001b[0m\u001b[0;34m)\u001b[0m\u001b[0;34m\u001b[0m\u001b[0;34m\u001b[0m\u001b[0m\n\u001b[0m\u001b[1;32m      9\u001b[0m \u001b[0;34m\u001b[0m\u001b[0m\n\u001b[1;32m     10\u001b[0m       \u001b[0mscore\u001b[0m\u001b[0;34m.\u001b[0m\u001b[0mappend\u001b[0m\u001b[0;34m(\u001b[0m\u001b[0mreg\u001b[0m\u001b[0;34m.\u001b[0m\u001b[0mscore\u001b[0m\u001b[0;34m(\u001b[0m\u001b[0mX_test\u001b[0m\u001b[0;34m,\u001b[0m \u001b[0my_test\u001b[0m\u001b[0;34m)\u001b[0m\u001b[0;34m)\u001b[0m\u001b[0;34m\u001b[0m\u001b[0;34m\u001b[0m\u001b[0m\n",
      "\u001b[0;31mNameError\u001b[0m: name 'test_size' is not defined"
     ]
    }
   ],
   "source": [
    "from sklearn.model_selection import train_test_split\n",
    "for random_state in np.arange(200):\n",
    "\n",
    "      X_train, X_test, y_train, y_test = train_test_split(X, y, test_size= 0.20, random_state=200)\n",
    "\n",
    "      reg.fit(X_train, y_train)\n",
    "\n",
    "      print(\"--\\n\",test_size, reg.score(X_test, y_test))\n",
    "\n",
    "      score.append(reg.score(X_test, y_test))"
   ]
  },
  {
   "cell_type": "code",
   "execution_count": null,
   "id": "e7d36da0",
   "metadata": {},
   "outputs": [],
   "source": []
  }
 ],
 "metadata": {
  "kernelspec": {
   "display_name": "Python 3",
   "language": "python",
   "name": "python3"
  },
  "language_info": {
   "codemirror_mode": {
    "name": "ipython",
    "version": 3
   },
   "file_extension": ".py",
   "mimetype": "text/x-python",
   "name": "python",
   "nbconvert_exporter": "python",
   "pygments_lexer": "ipython3",
   "version": "3.8.8"
  }
 },
 "nbformat": 4,
 "nbformat_minor": 5
}
