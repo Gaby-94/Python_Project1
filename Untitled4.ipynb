{
 "cells": [
  {
   "cell_type": "code",
   "execution_count": 1,
   "id": "c13d9fcb",
   "metadata": {},
   "outputs": [],
   "source": [
    "import pandas as pd\n",
    "import numpy as np"
   ]
  },
  {
   "cell_type": "code",
   "execution_count": 2,
   "id": "a5d69cd9",
   "metadata": {},
   "outputs": [],
   "source": [
    "df=pd.read_csv(\"ADEME.csv\")"
   ]
  },
  {
   "cell_type": "code",
   "execution_count": 3,
   "id": "db42e2d5",
   "metadata": {},
   "outputs": [
    {
     "name": "stdout",
     "output_type": "stream",
     "text": [
      "<class 'pandas.core.frame.DataFrame'>\n",
      "RangeIndex: 10000 entries, 0 to 9999\n",
      "Data columns (total 63 columns):\n",
      " #   Column                             Non-Null Count  Dtype  \n",
      "---  ------                             --------------  -----  \n",
      " 0   N°DPE                              10000 non-null  object \n",
      " 1   Date_réception_DPE                 10000 non-null  object \n",
      " 2   Date_établissement_DPE             10000 non-null  object \n",
      " 3   Date_visite_diagnostiqueur         10000 non-null  object \n",
      " 4   Modèle_DPE                         10000 non-null  object \n",
      " 5   N°_DPE_remplacé                    582 non-null    object \n",
      " 6   Date_fin_validité_DPE              10000 non-null  object \n",
      " 7   Version_DPE                        10000 non-null  float64\n",
      " 8   N°_DPE_immeuble_associé            26 non-null     object \n",
      " 9   Méthode_du_DPE                     9585 non-null   object \n",
      " 10  N°_immatriculation_copropriété     34 non-null     object \n",
      " 11  Invariant_fiscal_logement          60 non-null     object \n",
      " 12  Etiquette_DPE                      5608 non-null   object \n",
      " 13  Etiquette_GES                      5608 non-null   object \n",
      " 14  Conso_kWhep/m²/an                  5608 non-null   float64\n",
      " 15  Emission_GES_kgCO2/m²/an           5608 non-null   float64\n",
      " 16  Année_construction                 6581 non-null   float64\n",
      " 17  Catégorie_ERP                      7794 non-null   object \n",
      " 18  Période_construction               10000 non-null  object \n",
      " 19  Secteur_activité                   10000 non-null  object \n",
      " 20  Nombre_occupant                    9455 non-null   float64\n",
      " 21  Surface_(SHON)                     8056 non-null   float64\n",
      " 22  Surface_utile                      10000 non-null  float64\n",
      " 23  Type_énergie_principale_chauffage  1027 non-null   object \n",
      " 24  Adresse_brute                      9997 non-null   object \n",
      " 25  Nom__commune_(BAN)                 9975 non-null   object \n",
      " 26  Code_INSEE_(BAN)                   9975 non-null   object \n",
      " 27  N°_voie_(BAN)                      8049 non-null   object \n",
      " 28  Identifiant__BAN                   9975 non-null   object \n",
      " 29  Adresse_(BAN)                      9975 non-null   object \n",
      " 30  Code_postal_(BAN)                  9975 non-null   float64\n",
      " 31  Score_BAN                          9975 non-null   float64\n",
      " 32  Nom__rue_(BAN)                     8864 non-null   object \n",
      " 33  Coordonnée_cartographique_X_(BAN)  9975 non-null   float64\n",
      " 34  Coordonnée_cartographique_Y_(BAN)  9975 non-null   float64\n",
      " 35  Code_postal_(brut)                 10000 non-null  int64  \n",
      " 36  N°_étage_appartement               7107 non-null   float64\n",
      " 37  Nom_résidence                      935 non-null    object \n",
      " 38  Complément_d'adresse_bâtiment      3724 non-null   object \n",
      " 39  Cage_d'escalier                    74 non-null     object \n",
      " 40  Complément_d'adresse_logement      3640 non-null   object \n",
      " 41  Statut_géocodage                   10000 non-null  object \n",
      " 42  Nom__commune_(Brut)                9999 non-null   object \n",
      " 43  N°_département_(BAN)               9963 non-null   object \n",
      " 44  N°_région_(BAN)                    9963 non-null   float64\n",
      " 45  Conso_é_finale_énergie_n°1         5552 non-null   float64\n",
      " 46  Conso_é_primaire_énergie_n°1       5552 non-null   float64\n",
      " 47  Type_énergie_n°1                   5552 non-null   object \n",
      " 48  Type_usage_énergie_n°1             5552 non-null   object \n",
      " 49  Frais_annuel_énergie_n°1           5552 non-null   float64\n",
      " 50  Année_relève_conso_énergie_n°1     4952 non-null   float64\n",
      " 51  Conso_é_finale_énergie_n°2         2161 non-null   float64\n",
      " 52  Conso_é_primaire_énergie_n°2       2161 non-null   float64\n",
      " 53  Type_énergie_n°2                   2161 non-null   object \n",
      " 54  Type_usage_énergie_n°2             2161 non-null   object \n",
      " 55  Frais_annuel_énergie_n°2           2161 non-null   float64\n",
      " 56  Année_relève_conso_énergie_n°2     1952 non-null   float64\n",
      " 57  Conso_é_finale_énergie_n°3         881 non-null    float64\n",
      " 58  Conso_é_primaire_énergie_n°3       881 non-null    float64\n",
      " 59  Type_énergie_n°3                   881 non-null    object \n",
      " 60  Type_usage_énergie_n°3             881 non-null    object \n",
      " 61  Frais_annuel_énergie_n°3           881 non-null    float64\n",
      " 62  Année_relève_conso_énergie_n°3     749 non-null    float64\n",
      "dtypes: float64(25), int64(1), object(37)\n",
      "memory usage: 4.8+ MB\n"
     ]
    }
   ],
   "source": [
    "df.info()"
   ]
  },
  {
   "cell_type": "code",
   "execution_count": 4,
   "id": "de25bcab",
   "metadata": {},
   "outputs": [
    {
     "data": {
      "text/plain": [
       "Index(['N°DPE', 'Date_réception_DPE', 'Date_établissement_DPE',\n",
       "       'Date_visite_diagnostiqueur', 'Modèle_DPE', 'N°_DPE_remplacé',\n",
       "       'Date_fin_validité_DPE', 'Version_DPE', 'N°_DPE_immeuble_associé',\n",
       "       'Méthode_du_DPE', 'N°_immatriculation_copropriété',\n",
       "       'Invariant_fiscal_logement', 'Etiquette_DPE', 'Etiquette_GES',\n",
       "       'Conso_kWhep/m²/an', 'Emission_GES_kgCO2/m²/an', 'Année_construction',\n",
       "       'Catégorie_ERP', 'Période_construction', 'Secteur_activité',\n",
       "       'Nombre_occupant', 'Surface_(SHON)', 'Surface_utile',\n",
       "       'Type_énergie_principale_chauffage', 'Adresse_brute',\n",
       "       'Nom__commune_(BAN)', 'Code_INSEE_(BAN)', 'N°_voie_(BAN)',\n",
       "       'Identifiant__BAN', 'Adresse_(BAN)', 'Code_postal_(BAN)', 'Score_BAN',\n",
       "       'Nom__rue_(BAN)', 'Coordonnée_cartographique_X_(BAN)',\n",
       "       'Coordonnée_cartographique_Y_(BAN)', 'Code_postal_(brut)',\n",
       "       'N°_étage_appartement', 'Nom_résidence',\n",
       "       'Complément_d'adresse_bâtiment', 'Cage_d'escalier',\n",
       "       'Complément_d'adresse_logement', 'Statut_géocodage',\n",
       "       'Nom__commune_(Brut)', 'N°_département_(BAN)', 'N°_région_(BAN)',\n",
       "       'Conso_é_finale_énergie_n°1', 'Conso_é_primaire_énergie_n°1',\n",
       "       'Type_énergie_n°1', 'Type_usage_énergie_n°1',\n",
       "       'Frais_annuel_énergie_n°1', 'Année_relève_conso_énergie_n°1',\n",
       "       'Conso_é_finale_énergie_n°2', 'Conso_é_primaire_énergie_n°2',\n",
       "       'Type_énergie_n°2', 'Type_usage_énergie_n°2',\n",
       "       'Frais_annuel_énergie_n°2', 'Année_relève_conso_énergie_n°2',\n",
       "       'Conso_é_finale_énergie_n°3', 'Conso_é_primaire_énergie_n°3',\n",
       "       'Type_énergie_n°3', 'Type_usage_énergie_n°3',\n",
       "       'Frais_annuel_énergie_n°3', 'Année_relève_conso_énergie_n°3'],\n",
       "      dtype='object')"
      ]
     },
     "execution_count": 4,
     "metadata": {},
     "output_type": "execute_result"
    }
   ],
   "source": [
    "df.columns"
   ]
  },
  {
   "cell_type": "code",
   "execution_count": null,
   "id": "8253af73",
   "metadata": {},
   "outputs": [],
   "source": [
    "#pour connaître le nombre d'échantillons nuls d'une colonne particulière."
   ]
  },
  {
   "cell_type": "code",
   "execution_count": 7,
   "id": "8af41d69",
   "metadata": {},
   "outputs": [
    {
     "ename": "NameError",
     "evalue": "name 'Date_réception_DPE' is not defined",
     "output_type": "error",
     "traceback": [
      "\u001b[0;31m---------------------------------------------------------------------------\u001b[0m",
      "\u001b[0;31mNameError\u001b[0m                                 Traceback (most recent call last)",
      "\u001b[0;32m<ipython-input-7-a560c7403c7e>\u001b[0m in \u001b[0;36m<module>\u001b[0;34m\u001b[0m\n\u001b[0;32m----> 1\u001b[0;31m \u001b[0mdf\u001b[0m\u001b[0;34m[\u001b[0m\u001b[0mdf\u001b[0m\u001b[0;34m[\u001b[0m\u001b[0mDate_réception_DPE\u001b[0m\u001b[0;34m]\u001b[0m\u001b[0;34m.\u001b[0m\u001b[0misna\u001b[0m\u001b[0;34m(\u001b[0m\u001b[0;34m)\u001b[0m\u001b[0;34m]\u001b[0m\u001b[0;34m.\u001b[0m\u001b[0mshape\u001b[0m\u001b[0;34m\u001b[0m\u001b[0;34m\u001b[0m\u001b[0m\n\u001b[0m",
      "\u001b[0;31mNameError\u001b[0m: name 'Date_réception_DPE' is not defined"
     ]
    }
   ],
   "source": [
    "df[df[nom_colonne].isna()].shape"
   ]
  },
  {
   "cell_type": "code",
   "execution_count": null,
   "id": "d9640a92",
   "metadata": {},
   "outputs": [],
   "source": []
  }
 ],
 "metadata": {
  "kernelspec": {
   "display_name": "Python 3",
   "language": "python",
   "name": "python3"
  },
  "language_info": {
   "codemirror_mode": {
    "name": "ipython",
    "version": 3
   },
   "file_extension": ".py",
   "mimetype": "text/x-python",
   "name": "python",
   "nbconvert_exporter": "python",
   "pygments_lexer": "ipython3",
   "version": "3.8.8"
  }
 },
 "nbformat": 4,
 "nbformat_minor": 5
}
