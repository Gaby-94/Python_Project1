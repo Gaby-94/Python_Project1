{
 "cells": [
  {
   "cell_type": "code",
   "execution_count": 2,
   "id": "c4a22f54",
   "metadata": {},
   "outputs": [],
   "source": [
    "import pandas as pd"
   ]
  },
  {
   "cell_type": "code",
   "execution_count": 3,
   "id": "54ce3989",
   "metadata": {},
   "outputs": [],
   "source": [
    "df=pd.read_csv(\"titanic.csv\")"
   ]
  },
  {
   "cell_type": "code",
   "execution_count": 4,
   "id": "1c83622f",
   "metadata": {},
   "outputs": [
    {
     "data": {
      "text/html": [
       "<div>\n",
       "<style scoped>\n",
       "    .dataframe tbody tr th:only-of-type {\n",
       "        vertical-align: middle;\n",
       "    }\n",
       "\n",
       "    .dataframe tbody tr th {\n",
       "        vertical-align: top;\n",
       "    }\n",
       "\n",
       "    .dataframe thead th {\n",
       "        text-align: right;\n",
       "    }\n",
       "</style>\n",
       "<table border=\"1\" class=\"dataframe\">\n",
       "  <thead>\n",
       "    <tr style=\"text-align: right;\">\n",
       "      <th></th>\n",
       "      <th>PassengerId</th>\n",
       "      <th>Survived</th>\n",
       "      <th>Pclass</th>\n",
       "      <th>Name</th>\n",
       "      <th>Sex</th>\n",
       "      <th>Age</th>\n",
       "      <th>SibSp</th>\n",
       "      <th>Parch</th>\n",
       "      <th>Ticket</th>\n",
       "      <th>Fare</th>\n",
       "      <th>Cabin</th>\n",
       "      <th>Embarked</th>\n",
       "    </tr>\n",
       "  </thead>\n",
       "  <tbody>\n",
       "    <tr>\n",
       "      <th>0</th>\n",
       "      <td>1</td>\n",
       "      <td>0</td>\n",
       "      <td>3</td>\n",
       "      <td>Braund, Mr. Owen Harris</td>\n",
       "      <td>male</td>\n",
       "      <td>22.0</td>\n",
       "      <td>1</td>\n",
       "      <td>0</td>\n",
       "      <td>A/5 21171</td>\n",
       "      <td>7.2500</td>\n",
       "      <td>NaN</td>\n",
       "      <td>S</td>\n",
       "    </tr>\n",
       "    <tr>\n",
       "      <th>1</th>\n",
       "      <td>2</td>\n",
       "      <td>1</td>\n",
       "      <td>1</td>\n",
       "      <td>Cumings, Mrs. John Bradley (Florence Briggs Th...</td>\n",
       "      <td>female</td>\n",
       "      <td>38.0</td>\n",
       "      <td>1</td>\n",
       "      <td>0</td>\n",
       "      <td>PC 17599</td>\n",
       "      <td>71.2833</td>\n",
       "      <td>C85</td>\n",
       "      <td>C</td>\n",
       "    </tr>\n",
       "    <tr>\n",
       "      <th>2</th>\n",
       "      <td>3</td>\n",
       "      <td>1</td>\n",
       "      <td>3</td>\n",
       "      <td>Heikkinen, Miss. Laina</td>\n",
       "      <td>female</td>\n",
       "      <td>26.0</td>\n",
       "      <td>0</td>\n",
       "      <td>0</td>\n",
       "      <td>STON/O2. 3101282</td>\n",
       "      <td>7.9250</td>\n",
       "      <td>NaN</td>\n",
       "      <td>S</td>\n",
       "    </tr>\n",
       "    <tr>\n",
       "      <th>3</th>\n",
       "      <td>4</td>\n",
       "      <td>1</td>\n",
       "      <td>1</td>\n",
       "      <td>Futrelle, Mrs. Jacques Heath (Lily May Peel)</td>\n",
       "      <td>female</td>\n",
       "      <td>35.0</td>\n",
       "      <td>1</td>\n",
       "      <td>0</td>\n",
       "      <td>113803</td>\n",
       "      <td>53.1000</td>\n",
       "      <td>C123</td>\n",
       "      <td>S</td>\n",
       "    </tr>\n",
       "    <tr>\n",
       "      <th>4</th>\n",
       "      <td>5</td>\n",
       "      <td>0</td>\n",
       "      <td>3</td>\n",
       "      <td>Allen, Mr. William Henry</td>\n",
       "      <td>male</td>\n",
       "      <td>35.0</td>\n",
       "      <td>0</td>\n",
       "      <td>0</td>\n",
       "      <td>373450</td>\n",
       "      <td>8.0500</td>\n",
       "      <td>NaN</td>\n",
       "      <td>S</td>\n",
       "    </tr>\n",
       "  </tbody>\n",
       "</table>\n",
       "</div>"
      ],
      "text/plain": [
       "   PassengerId  Survived  Pclass  \\\n",
       "0            1         0       3   \n",
       "1            2         1       1   \n",
       "2            3         1       3   \n",
       "3            4         1       1   \n",
       "4            5         0       3   \n",
       "\n",
       "                                                Name     Sex   Age  SibSp  \\\n",
       "0                            Braund, Mr. Owen Harris    male  22.0      1   \n",
       "1  Cumings, Mrs. John Bradley (Florence Briggs Th...  female  38.0      1   \n",
       "2                             Heikkinen, Miss. Laina  female  26.0      0   \n",
       "3       Futrelle, Mrs. Jacques Heath (Lily May Peel)  female  35.0      1   \n",
       "4                           Allen, Mr. William Henry    male  35.0      0   \n",
       "\n",
       "   Parch            Ticket     Fare Cabin Embarked  \n",
       "0      0         A/5 21171   7.2500   NaN        S  \n",
       "1      0          PC 17599  71.2833   C85        C  \n",
       "2      0  STON/O2. 3101282   7.9250   NaN        S  \n",
       "3      0            113803  53.1000  C123        S  \n",
       "4      0            373450   8.0500   NaN        S  "
      ]
     },
     "execution_count": 4,
     "metadata": {},
     "output_type": "execute_result"
    }
   ],
   "source": [
    "df.head()"
   ]
  },
  {
   "cell_type": "code",
   "execution_count": 5,
   "id": "d6de8215",
   "metadata": {},
   "outputs": [
    {
     "data": {
      "text/plain": [
       "PassengerId    0.000000\n",
       "Survived       0.000000\n",
       "Pclass         0.000000\n",
       "Name           0.000000\n",
       "Sex            0.000000\n",
       "Age            0.198653\n",
       "SibSp          0.000000\n",
       "Parch          0.000000\n",
       "Ticket         0.000000\n",
       "Fare           0.000000\n",
       "Cabin          0.771044\n",
       "Embarked       0.002245\n",
       "dtype: float64"
      ]
     },
     "execution_count": 5,
     "metadata": {},
     "output_type": "execute_result"
    }
   ],
   "source": [
    "df.isnull().mean()"
   ]
  },
  {
   "cell_type": "code",
   "execution_count": 6,
   "id": "07b943b6",
   "metadata": {},
   "outputs": [
    {
     "data": {
      "text/plain": [
       "array([3, 1, 2])"
      ]
     },
     "execution_count": 6,
     "metadata": {},
     "output_type": "execute_result"
    }
   ],
   "source": [
    "df[\"Pclass\"].unique()"
   ]
  },
  {
   "cell_type": "code",
   "execution_count": 7,
   "id": "017eefd9",
   "metadata": {},
   "outputs": [
    {
     "data": {
      "text/plain": [
       "3    491\n",
       "1    216\n",
       "2    184\n",
       "Name: Pclass, dtype: int64"
      ]
     },
     "execution_count": 7,
     "metadata": {},
     "output_type": "execute_result"
    }
   ],
   "source": [
    "df[\"Pclass\"].value_counts()"
   ]
  },
  {
   "cell_type": "code",
   "execution_count": 8,
   "id": "7fe5ab35",
   "metadata": {},
   "outputs": [
    {
     "data": {
      "text/plain": [
       "count    891.000000\n",
       "mean      32.204208\n",
       "std       49.693429\n",
       "min        0.000000\n",
       "25%        7.910400\n",
       "50%       14.454200\n",
       "75%       31.000000\n",
       "max      512.329200\n",
       "Name: Fare, dtype: float64"
      ]
     },
     "execution_count": 8,
     "metadata": {},
     "output_type": "execute_result"
    }
   ],
   "source": [
    "df.Fare.describe()"
   ]
  },
  {
   "cell_type": "code",
   "execution_count": 9,
   "id": "5e9262f9",
   "metadata": {},
   "outputs": [],
   "source": [
    "binned = pd.cut(df[\"Fare\"], bins = [0,7.910400,14.454200,31.000000,512.329200], labels = [\"Q1\",\"Q2\",\"Q3\",\"Q4\"], include_lowest=True)\n"
   ]
  },
  {
   "cell_type": "code",
   "execution_count": 10,
   "id": "fafd45ee",
   "metadata": {},
   "outputs": [],
   "source": [
    "df[\"fare_band\"] = binned"
   ]
  },
  {
   "cell_type": "code",
   "execution_count": 11,
   "id": "393762c2",
   "metadata": {},
   "outputs": [
    {
     "data": {
      "text/plain": [
       "fare_band\n",
       "Q1     0.0000\n",
       "Q2     7.9250\n",
       "Q3    14.4583\n",
       "Q4    31.2750\n",
       "Name: Fare, dtype: float64"
      ]
     },
     "execution_count": 11,
     "metadata": {},
     "output_type": "execute_result"
    }
   ],
   "source": [
    "df.groupby(\"fare_band\")[\"Fare\"].min()"
   ]
  },
  {
   "cell_type": "code",
   "execution_count": 12,
   "id": "fcab5844",
   "metadata": {},
   "outputs": [
    {
     "data": {
      "text/plain": [
       "fare_band\n",
       "Q1      7.8958\n",
       "Q2     14.4542\n",
       "Q3     31.0000\n",
       "Q4    512.3292\n",
       "Name: Fare, dtype: float64"
      ]
     },
     "execution_count": 12,
     "metadata": {},
     "output_type": "execute_result"
    }
   ],
   "source": [
    "df.groupby(\"fare_band\")[\"Fare\"].max()"
   ]
  },
  {
   "cell_type": "code",
   "execution_count": 13,
   "id": "49c9c82e",
   "metadata": {},
   "outputs": [],
   "source": [
    "df[\"Deck\"]  = df[\"Cabin\"].str[0]"
   ]
  },
  {
   "cell_type": "code",
   "execution_count": 14,
   "id": "776f205f",
   "metadata": {},
   "outputs": [
    {
     "data": {
      "text/plain": [
       "C    59\n",
       "B    47\n",
       "D    33\n",
       "E    32\n",
       "A    15\n",
       "F    13\n",
       "G     4\n",
       "T     1\n",
       "Name: Deck, dtype: int64"
      ]
     },
     "execution_count": 14,
     "metadata": {},
     "output_type": "execute_result"
    }
   ],
   "source": [
    "df.Deck.value_counts()"
   ]
  },
  {
   "cell_type": "code",
   "execution_count": 15,
   "id": "82b9f2e8",
   "metadata": {},
   "outputs": [
    {
     "data": {
      "text/html": [
       "<div>\n",
       "<style scoped>\n",
       "    .dataframe tbody tr th:only-of-type {\n",
       "        vertical-align: middle;\n",
       "    }\n",
       "\n",
       "    .dataframe tbody tr th {\n",
       "        vertical-align: top;\n",
       "    }\n",
       "\n",
       "    .dataframe thead th {\n",
       "        text-align: right;\n",
       "    }\n",
       "</style>\n",
       "<table border=\"1\" class=\"dataframe\">\n",
       "  <thead>\n",
       "    <tr style=\"text-align: right;\">\n",
       "      <th></th>\n",
       "      <th>PassengerId</th>\n",
       "      <th>Survived</th>\n",
       "      <th>Pclass</th>\n",
       "      <th>Name</th>\n",
       "      <th>Sex</th>\n",
       "      <th>Age</th>\n",
       "      <th>SibSp</th>\n",
       "      <th>Parch</th>\n",
       "      <th>Ticket</th>\n",
       "      <th>Fare</th>\n",
       "      <th>Cabin</th>\n",
       "      <th>Embarked</th>\n",
       "      <th>fare_band</th>\n",
       "      <th>Deck</th>\n",
       "    </tr>\n",
       "  </thead>\n",
       "  <tbody>\n",
       "    <tr>\n",
       "      <th>0</th>\n",
       "      <td>1</td>\n",
       "      <td>0</td>\n",
       "      <td>3</td>\n",
       "      <td>Braund, Mr. Owen Harris</td>\n",
       "      <td>male</td>\n",
       "      <td>22.0</td>\n",
       "      <td>1</td>\n",
       "      <td>0</td>\n",
       "      <td>A/5 21171</td>\n",
       "      <td>7.2500</td>\n",
       "      <td>NaN</td>\n",
       "      <td>S</td>\n",
       "      <td>Q1</td>\n",
       "      <td>NaN</td>\n",
       "    </tr>\n",
       "    <tr>\n",
       "      <th>1</th>\n",
       "      <td>2</td>\n",
       "      <td>1</td>\n",
       "      <td>1</td>\n",
       "      <td>Cumings, Mrs. John Bradley (Florence Briggs Th...</td>\n",
       "      <td>female</td>\n",
       "      <td>38.0</td>\n",
       "      <td>1</td>\n",
       "      <td>0</td>\n",
       "      <td>PC 17599</td>\n",
       "      <td>71.2833</td>\n",
       "      <td>C85</td>\n",
       "      <td>C</td>\n",
       "      <td>Q4</td>\n",
       "      <td>C</td>\n",
       "    </tr>\n",
       "    <tr>\n",
       "      <th>2</th>\n",
       "      <td>3</td>\n",
       "      <td>1</td>\n",
       "      <td>3</td>\n",
       "      <td>Heikkinen, Miss. Laina</td>\n",
       "      <td>female</td>\n",
       "      <td>26.0</td>\n",
       "      <td>0</td>\n",
       "      <td>0</td>\n",
       "      <td>STON/O2. 3101282</td>\n",
       "      <td>7.9250</td>\n",
       "      <td>NaN</td>\n",
       "      <td>S</td>\n",
       "      <td>Q2</td>\n",
       "      <td>NaN</td>\n",
       "    </tr>\n",
       "    <tr>\n",
       "      <th>3</th>\n",
       "      <td>4</td>\n",
       "      <td>1</td>\n",
       "      <td>1</td>\n",
       "      <td>Futrelle, Mrs. Jacques Heath (Lily May Peel)</td>\n",
       "      <td>female</td>\n",
       "      <td>35.0</td>\n",
       "      <td>1</td>\n",
       "      <td>0</td>\n",
       "      <td>113803</td>\n",
       "      <td>53.1000</td>\n",
       "      <td>C123</td>\n",
       "      <td>S</td>\n",
       "      <td>Q4</td>\n",
       "      <td>C</td>\n",
       "    </tr>\n",
       "    <tr>\n",
       "      <th>4</th>\n",
       "      <td>5</td>\n",
       "      <td>0</td>\n",
       "      <td>3</td>\n",
       "      <td>Allen, Mr. William Henry</td>\n",
       "      <td>male</td>\n",
       "      <td>35.0</td>\n",
       "      <td>0</td>\n",
       "      <td>0</td>\n",
       "      <td>373450</td>\n",
       "      <td>8.0500</td>\n",
       "      <td>NaN</td>\n",
       "      <td>S</td>\n",
       "      <td>Q2</td>\n",
       "      <td>NaN</td>\n",
       "    </tr>\n",
       "  </tbody>\n",
       "</table>\n",
       "</div>"
      ],
      "text/plain": [
       "   PassengerId  Survived  Pclass  \\\n",
       "0            1         0       3   \n",
       "1            2         1       1   \n",
       "2            3         1       3   \n",
       "3            4         1       1   \n",
       "4            5         0       3   \n",
       "\n",
       "                                                Name     Sex   Age  SibSp  \\\n",
       "0                            Braund, Mr. Owen Harris    male  22.0      1   \n",
       "1  Cumings, Mrs. John Bradley (Florence Briggs Th...  female  38.0      1   \n",
       "2                             Heikkinen, Miss. Laina  female  26.0      0   \n",
       "3       Futrelle, Mrs. Jacques Heath (Lily May Peel)  female  35.0      1   \n",
       "4                           Allen, Mr. William Henry    male  35.0      0   \n",
       "\n",
       "   Parch            Ticket     Fare Cabin Embarked fare_band Deck  \n",
       "0      0         A/5 21171   7.2500   NaN        S        Q1  NaN  \n",
       "1      0          PC 17599  71.2833   C85        C        Q4    C  \n",
       "2      0  STON/O2. 3101282   7.9250   NaN        S        Q2  NaN  \n",
       "3      0            113803  53.1000  C123        S        Q4    C  \n",
       "4      0            373450   8.0500   NaN        S        Q2  NaN  "
      ]
     },
     "execution_count": 15,
     "metadata": {},
     "output_type": "execute_result"
    }
   ],
   "source": [
    "df.head()"
   ]
  },
  {
   "cell_type": "code",
   "execution_count": 16,
   "id": "299ab184",
   "metadata": {},
   "outputs": [
    {
     "data": {
      "text/plain": [
       "Unknown    687\n",
       "C           59\n",
       "B           47\n",
       "D           33\n",
       "E           32\n",
       "A           15\n",
       "F           13\n",
       "G            4\n",
       "T            1\n",
       "Name: Deck, dtype: int64"
      ]
     },
     "execution_count": 16,
     "metadata": {},
     "output_type": "execute_result"
    }
   ],
   "source": [
    " df.Deck = df.Deck.fillna(\"Unknown\")\n",
    "\n",
    "df.Deck.value_counts()"
   ]
  },
  {
   "cell_type": "code",
   "execution_count": 17,
   "id": "9524efe5",
   "metadata": {},
   "outputs": [
    {
     "data": {
      "text/plain": [
       "Deck\n",
       "A          0.466667\n",
       "B          0.744681\n",
       "C          0.593220\n",
       "D          0.757576\n",
       "E          0.750000\n",
       "F          0.615385\n",
       "G          0.500000\n",
       "T          0.000000\n",
       "Unknown    0.299854\n",
       "Name: Survived, dtype: float64"
      ]
     },
     "execution_count": 17,
     "metadata": {},
     "output_type": "execute_result"
    }
   ],
   "source": [
    "df.groupby(\"Deck\")[\"Survived\"].mean()"
   ]
  },
  {
   "cell_type": "code",
   "execution_count": 18,
   "id": "3595f00e",
   "metadata": {},
   "outputs": [
    {
     "data": {
      "text/plain": [
       "Deck     Pclass\n",
       "A        1          15\n",
       "B        1          47\n",
       "C        1          59\n",
       "D        1          29\n",
       "         2           4\n",
       "E        1          25\n",
       "         2           4\n",
       "         3           3\n",
       "F        2           8\n",
       "         3           5\n",
       "G        3           4\n",
       "T        1           1\n",
       "Unknown  3         479\n",
       "         2         168\n",
       "         1          40\n",
       "Name: Pclass, dtype: int64"
      ]
     },
     "execution_count": 18,
     "metadata": {},
     "output_type": "execute_result"
    }
   ],
   "source": [
    "df.groupby(\"Deck\")[\"Pclass\"].value_counts()"
   ]
  },
  {
   "cell_type": "code",
   "execution_count": 19,
   "id": "4a5e2878",
   "metadata": {},
   "outputs": [
    {
     "data": {
      "text/html": [
       "<div>\n",
       "<style scoped>\n",
       "    .dataframe tbody tr th:only-of-type {\n",
       "        vertical-align: middle;\n",
       "    }\n",
       "\n",
       "    .dataframe tbody tr th {\n",
       "        vertical-align: top;\n",
       "    }\n",
       "\n",
       "    .dataframe thead th {\n",
       "        text-align: right;\n",
       "    }\n",
       "</style>\n",
       "<table border=\"1\" class=\"dataframe\">\n",
       "  <thead>\n",
       "    <tr style=\"text-align: right;\">\n",
       "      <th></th>\n",
       "      <th>PassengerId</th>\n",
       "      <th>Survived</th>\n",
       "      <th>Pclass</th>\n",
       "      <th>Age</th>\n",
       "      <th>SibSp</th>\n",
       "      <th>Parch</th>\n",
       "      <th>Fare</th>\n",
       "    </tr>\n",
       "  </thead>\n",
       "  <tbody>\n",
       "    <tr>\n",
       "      <th>count</th>\n",
       "      <td>891.000000</td>\n",
       "      <td>891.000000</td>\n",
       "      <td>891.000000</td>\n",
       "      <td>714.000000</td>\n",
       "      <td>891.000000</td>\n",
       "      <td>891.000000</td>\n",
       "      <td>891.000000</td>\n",
       "    </tr>\n",
       "    <tr>\n",
       "      <th>mean</th>\n",
       "      <td>446.000000</td>\n",
       "      <td>0.383838</td>\n",
       "      <td>2.308642</td>\n",
       "      <td>29.699118</td>\n",
       "      <td>0.523008</td>\n",
       "      <td>0.381594</td>\n",
       "      <td>32.204208</td>\n",
       "    </tr>\n",
       "    <tr>\n",
       "      <th>std</th>\n",
       "      <td>257.353842</td>\n",
       "      <td>0.486592</td>\n",
       "      <td>0.836071</td>\n",
       "      <td>14.526497</td>\n",
       "      <td>1.102743</td>\n",
       "      <td>0.806057</td>\n",
       "      <td>49.693429</td>\n",
       "    </tr>\n",
       "    <tr>\n",
       "      <th>min</th>\n",
       "      <td>1.000000</td>\n",
       "      <td>0.000000</td>\n",
       "      <td>1.000000</td>\n",
       "      <td>0.420000</td>\n",
       "      <td>0.000000</td>\n",
       "      <td>0.000000</td>\n",
       "      <td>0.000000</td>\n",
       "    </tr>\n",
       "    <tr>\n",
       "      <th>25%</th>\n",
       "      <td>223.500000</td>\n",
       "      <td>0.000000</td>\n",
       "      <td>2.000000</td>\n",
       "      <td>20.125000</td>\n",
       "      <td>0.000000</td>\n",
       "      <td>0.000000</td>\n",
       "      <td>7.910400</td>\n",
       "    </tr>\n",
       "    <tr>\n",
       "      <th>50%</th>\n",
       "      <td>446.000000</td>\n",
       "      <td>0.000000</td>\n",
       "      <td>3.000000</td>\n",
       "      <td>28.000000</td>\n",
       "      <td>0.000000</td>\n",
       "      <td>0.000000</td>\n",
       "      <td>14.454200</td>\n",
       "    </tr>\n",
       "    <tr>\n",
       "      <th>75%</th>\n",
       "      <td>668.500000</td>\n",
       "      <td>1.000000</td>\n",
       "      <td>3.000000</td>\n",
       "      <td>38.000000</td>\n",
       "      <td>1.000000</td>\n",
       "      <td>0.000000</td>\n",
       "      <td>31.000000</td>\n",
       "    </tr>\n",
       "    <tr>\n",
       "      <th>max</th>\n",
       "      <td>891.000000</td>\n",
       "      <td>1.000000</td>\n",
       "      <td>3.000000</td>\n",
       "      <td>80.000000</td>\n",
       "      <td>8.000000</td>\n",
       "      <td>6.000000</td>\n",
       "      <td>512.329200</td>\n",
       "    </tr>\n",
       "  </tbody>\n",
       "</table>\n",
       "</div>"
      ],
      "text/plain": [
       "       PassengerId    Survived      Pclass         Age       SibSp  \\\n",
       "count   891.000000  891.000000  891.000000  714.000000  891.000000   \n",
       "mean    446.000000    0.383838    2.308642   29.699118    0.523008   \n",
       "std     257.353842    0.486592    0.836071   14.526497    1.102743   \n",
       "min       1.000000    0.000000    1.000000    0.420000    0.000000   \n",
       "25%     223.500000    0.000000    2.000000   20.125000    0.000000   \n",
       "50%     446.000000    0.000000    3.000000   28.000000    0.000000   \n",
       "75%     668.500000    1.000000    3.000000   38.000000    1.000000   \n",
       "max     891.000000    1.000000    3.000000   80.000000    8.000000   \n",
       "\n",
       "            Parch        Fare  \n",
       "count  891.000000  891.000000  \n",
       "mean     0.381594   32.204208  \n",
       "std      0.806057   49.693429  \n",
       "min      0.000000    0.000000  \n",
       "25%      0.000000    7.910400  \n",
       "50%      0.000000   14.454200  \n",
       "75%      0.000000   31.000000  \n",
       "max      6.000000  512.329200  "
      ]
     },
     "execution_count": 19,
     "metadata": {},
     "output_type": "execute_result"
    }
   ],
   "source": [
    "df.describe()"
   ]
  },
  {
   "cell_type": "code",
   "execution_count": 20,
   "id": "25f35e10",
   "metadata": {},
   "outputs": [
    {
     "data": {
      "text/html": [
       "<div>\n",
       "<style scoped>\n",
       "    .dataframe tbody tr th:only-of-type {\n",
       "        vertical-align: middle;\n",
       "    }\n",
       "\n",
       "    .dataframe tbody tr th {\n",
       "        vertical-align: top;\n",
       "    }\n",
       "\n",
       "    .dataframe thead th {\n",
       "        text-align: right;\n",
       "    }\n",
       "</style>\n",
       "<table border=\"1\" class=\"dataframe\">\n",
       "  <thead>\n",
       "    <tr style=\"text-align: right;\">\n",
       "      <th></th>\n",
       "      <th>PassengerId</th>\n",
       "      <th>Survived</th>\n",
       "      <th>Pclass</th>\n",
       "      <th>Name</th>\n",
       "      <th>Sex</th>\n",
       "      <th>Age</th>\n",
       "      <th>SibSp</th>\n",
       "      <th>Parch</th>\n",
       "      <th>Ticket</th>\n",
       "      <th>Fare</th>\n",
       "      <th>Cabin</th>\n",
       "      <th>Embarked</th>\n",
       "      <th>fare_band</th>\n",
       "      <th>Deck</th>\n",
       "    </tr>\n",
       "  </thead>\n",
       "  <tbody>\n",
       "    <tr>\n",
       "      <th>0</th>\n",
       "      <td>1</td>\n",
       "      <td>0</td>\n",
       "      <td>3</td>\n",
       "      <td>Braund, Mr. Owen Harris</td>\n",
       "      <td>male</td>\n",
       "      <td>22.0</td>\n",
       "      <td>1</td>\n",
       "      <td>0</td>\n",
       "      <td>A/5 21171</td>\n",
       "      <td>7.2500</td>\n",
       "      <td>NaN</td>\n",
       "      <td>S</td>\n",
       "      <td>Q1</td>\n",
       "      <td>Unknown</td>\n",
       "    </tr>\n",
       "    <tr>\n",
       "      <th>1</th>\n",
       "      <td>2</td>\n",
       "      <td>1</td>\n",
       "      <td>1</td>\n",
       "      <td>Cumings, Mrs. John Bradley (Florence Briggs Th...</td>\n",
       "      <td>female</td>\n",
       "      <td>38.0</td>\n",
       "      <td>1</td>\n",
       "      <td>0</td>\n",
       "      <td>PC 17599</td>\n",
       "      <td>71.2833</td>\n",
       "      <td>C85</td>\n",
       "      <td>C</td>\n",
       "      <td>Q4</td>\n",
       "      <td>C</td>\n",
       "    </tr>\n",
       "    <tr>\n",
       "      <th>2</th>\n",
       "      <td>3</td>\n",
       "      <td>1</td>\n",
       "      <td>3</td>\n",
       "      <td>Heikkinen, Miss. Laina</td>\n",
       "      <td>female</td>\n",
       "      <td>26.0</td>\n",
       "      <td>0</td>\n",
       "      <td>0</td>\n",
       "      <td>STON/O2. 3101282</td>\n",
       "      <td>7.9250</td>\n",
       "      <td>NaN</td>\n",
       "      <td>S</td>\n",
       "      <td>Q2</td>\n",
       "      <td>Unknown</td>\n",
       "    </tr>\n",
       "    <tr>\n",
       "      <th>3</th>\n",
       "      <td>4</td>\n",
       "      <td>1</td>\n",
       "      <td>1</td>\n",
       "      <td>Futrelle, Mrs. Jacques Heath (Lily May Peel)</td>\n",
       "      <td>female</td>\n",
       "      <td>35.0</td>\n",
       "      <td>1</td>\n",
       "      <td>0</td>\n",
       "      <td>113803</td>\n",
       "      <td>53.1000</td>\n",
       "      <td>C123</td>\n",
       "      <td>S</td>\n",
       "      <td>Q4</td>\n",
       "      <td>C</td>\n",
       "    </tr>\n",
       "    <tr>\n",
       "      <th>4</th>\n",
       "      <td>5</td>\n",
       "      <td>0</td>\n",
       "      <td>3</td>\n",
       "      <td>Allen, Mr. William Henry</td>\n",
       "      <td>male</td>\n",
       "      <td>35.0</td>\n",
       "      <td>0</td>\n",
       "      <td>0</td>\n",
       "      <td>373450</td>\n",
       "      <td>8.0500</td>\n",
       "      <td>NaN</td>\n",
       "      <td>S</td>\n",
       "      <td>Q2</td>\n",
       "      <td>Unknown</td>\n",
       "    </tr>\n",
       "  </tbody>\n",
       "</table>\n",
       "</div>"
      ],
      "text/plain": [
       "   PassengerId  Survived  Pclass  \\\n",
       "0            1         0       3   \n",
       "1            2         1       1   \n",
       "2            3         1       3   \n",
       "3            4         1       1   \n",
       "4            5         0       3   \n",
       "\n",
       "                                                Name     Sex   Age  SibSp  \\\n",
       "0                            Braund, Mr. Owen Harris    male  22.0      1   \n",
       "1  Cumings, Mrs. John Bradley (Florence Briggs Th...  female  38.0      1   \n",
       "2                             Heikkinen, Miss. Laina  female  26.0      0   \n",
       "3       Futrelle, Mrs. Jacques Heath (Lily May Peel)  female  35.0      1   \n",
       "4                           Allen, Mr. William Henry    male  35.0      0   \n",
       "\n",
       "   Parch            Ticket     Fare Cabin Embarked fare_band     Deck  \n",
       "0      0         A/5 21171   7.2500   NaN        S        Q1  Unknown  \n",
       "1      0          PC 17599  71.2833   C85        C        Q4        C  \n",
       "2      0  STON/O2. 3101282   7.9250   NaN        S        Q2  Unknown  \n",
       "3      0            113803  53.1000  C123        S        Q4        C  \n",
       "4      0            373450   8.0500   NaN        S        Q2  Unknown  "
      ]
     },
     "execution_count": 20,
     "metadata": {},
     "output_type": "execute_result"
    }
   ],
   "source": [
    "df.head()"
   ]
  },
  {
   "cell_type": "code",
   "execution_count": null,
   "id": "b3edbe29",
   "metadata": {},
   "outputs": [],
   "source": [
    "##Here is a quick reminder of the code written in Part 1 to build a model to predict happiness. Refer back to that chapter if you need a refresher"
   ]
  },
  {
   "cell_type": "code",
   "execution_count": null,
   "id": "decce646",
   "metadata": {},
   "outputs": [],
   "source": [
    "####\n",
    "# Import Python libraries for data manipulation and visualisation\n",
    "import pandas as pd\n",
    "import numpy as np\n",
    "import matplotlib.pyplot as pyplot\n",
    "\n",
    "# Import the Python machine learning libraries we need\n",
    "from sklearn.model_selection import train_test_split\n",
    "from sklearn.tree import DecisionTreeClassifier\n",
    "from sklearn.metrics import accuracy_score\n",
    "\n",
    "# Import some convenient functions.  This can be found on the course github\n",
    "from functions import *\n",
    "\n",
    "# Load the data\n",
    "dataset = pd.read_csv(\"world_data_really_tiny.csv\")\n",
    "\n",
    "# Inspect first few rows\n",
    "dataset.head(12)\n",
    "\n",
    "# Inspect data shape\n",
    "dataset.shape\n",
    "\n",
    "# Inspect descriptive stats\n",
    "dataset.describe()\n",
    "\n",
    "# View univariate histgram plots\n",
    "histPlotAll(dataset)\n",
    "\n",
    "# View univariate box plots\n",
    "boxPlotAll(dataset)\n",
    "\n",
    "# View class split\n",
    "classComparePlot(dataset[[\"happiness\",\"lifeexp\",\"unemployment\"]], 'happiness', plotType='hist')\n",
    "\n",
    "# Split into input and output features\n",
    "y = dataset[\"happiness\"]\n",
    "X = dataset[[\"lifeexp\",\"unemployment\"]]\n",
    "\n",
    "# Split into test and training sets\n",
    "test_size = 0.33\n",
    "seed = 7\n",
    "X_train, X_test, y_train, y_test =  train_test_split(X, y, test_size=test_size, random_state=seed)\n",
    "\n",
    "# Select algorithm\n",
    "model = DecisionTreeClassifier()\n",
    "\n",
    "# Fit model to the data\n",
    "model.fit(X_train, y_train)\n",
    "\n",
    "# Check model performance on training data\n",
    "predictions = model.predict(X_train)\n",
    "print(accuracy_score(y_train, predictions))\n",
    "\n",
    "# Evaluate the model on the test data\n",
    "predictions = model.predict(X_test)\n",
    "print(accuracy_score(y_test, predictions))\n",
    "\n"
   ]
  },
  {
   "cell_type": "code",
   "execution_count": null,
   "id": "8b27ee96",
   "metadata": {},
   "outputs": [],
   "source": [
    "#Build and Evaluate a Classification Model"
   ]
  },
  {
   "cell_type": "code",
   "execution_count": null,
   "id": "5dbb4d73",
   "metadata": {},
   "outputs": [],
   "source": [
    "##Import the Libraries"
   ]
  },
  {
   "cell_type": "code",
   "execution_count": null,
   "id": "9f743fe0",
   "metadata": {},
   "outputs": [],
   "source": [
    "# Core libraries\n",
    "import pandas as pd\n",
    "import numpy as np\n",
    "import matplotlib.pyplot as pyplot\n",
    "\n",
    "# Sklearn processing\n",
    "from sklearn.preprocessing import MinMaxScaler\n",
    "from sklearn.model_selection import train_test_split\n",
    "\n",
    "# Sklearn classification algorithms\n",
    "from sklearn.tree import DecisionTreeClassifier\n",
    "from sklearn.linear_model import LogisticRegression\n",
    "\n",
    "# Sklearn classification model evaluation function\n",
    "from sklearn.metrics import accuracy_score\n",
    "\n",
    "# Convenience functions.  This can be found on the course github\n",
    "from functions import *"
   ]
  },
  {
   "cell_type": "code",
   "execution_count": null,
   "id": "0dc61945",
   "metadata": {},
   "outputs": [],
   "source": [
    "##The Process"
   ]
  },
  {
   "cell_type": "code",
   "execution_count": null,
   "id": "e33fef1d",
   "metadata": {},
   "outputs": [],
   "source": [
    "#Here's a reminder of the process from Part 1 of the course that we'll be using."
   ]
  },
  {
   "cell_type": "code",
   "execution_count": null,
   "id": "0b442f18",
   "metadata": {},
   "outputs": [],
   "source": [
    "##Define Task,Acquire clean Data,Understand the data,Prepare Data,Build Model,Evaluate Model, Finalise Deploy"
   ]
  },
  {
   "cell_type": "code",
   "execution_count": null,
   "id": "cc6808fd",
   "metadata": {},
   "outputs": [],
   "source": [
    "##Load Data"
   ]
  },
  {
   "cell_type": "code",
   "execution_count": null,
   "id": "ec19e4ec",
   "metadata": {},
   "outputs": [],
   "source": [
    "#dataset = pd.read_csv(\"world_data.csv\")"
   ]
  },
  {
   "cell_type": "markdown",
   "id": "875b9a8c",
   "metadata": {},
   "source": [
    "### Inspect Data"
   ]
  },
  {
   "cell_type": "code",
   "execution_count": null,
   "id": "4a9e108d",
   "metadata": {},
   "outputs": [],
   "source": [
    "#dataset.shape"
   ]
  },
  {
   "cell_type": "code",
   "execution_count": null,
   "id": "40774dbc",
   "metadata": {},
   "outputs": [],
   "source": [
    "###Take a quick look at the data to understand what you are dealing with:"
   ]
  },
  {
   "cell_type": "code",
   "execution_count": null,
   "id": "008db856",
   "metadata": {},
   "outputs": [],
   "source": [
    "##dataset.head()"
   ]
  },
  {
   "cell_type": "code",
   "execution_count": null,
   "id": "a2691a7c",
   "metadata": {},
   "outputs": [],
   "source": [
    "##Check that there are sensible data types for each feature. For example, we don't want any numeric features to show up as an object type"
   ]
  },
  {
   "cell_type": "code",
   "execution_count": null,
   "id": "68d59c53",
   "metadata": {},
   "outputs": [],
   "source": [
    "#dataset.dtypes"
   ]
  },
  {
   "cell_type": "code",
   "execution_count": null,
   "id": "abf5003f",
   "metadata": {},
   "outputs": [],
   "source": [
    "##Check if there are nulls:"
   ]
  },
  {
   "cell_type": "code",
   "execution_count": null,
   "id": "52dda17a",
   "metadata": {},
   "outputs": [],
   "source": [
    "#dataset.isnull().mean().sort_values()"
   ]
  },
  {
   "cell_type": "code",
   "execution_count": null,
   "id": "cf8f38a2",
   "metadata": {},
   "outputs": [],
   "source": [
    "##Clean Data"
   ]
  },
  {
   "cell_type": "code",
   "execution_count": null,
   "id": "78b64e57",
   "metadata": {},
   "outputs": [],
   "source": [
    "##dataset = dataset.drop([\"murder\",\"urbanpopulation\",\"unemployment\"], axis=1)"
   ]
  },
  {
   "cell_type": "code",
   "execution_count": null,
   "id": "8fc214da",
   "metadata": {},
   "outputs": [],
   "source": [
    "##For the others, I will just impute with the mean value of the feature.  Again, I may want to come back to this later."
   ]
  },
  {
   "cell_type": "code",
   "execution_count": null,
   "id": "a6031bee",
   "metadata": {},
   "outputs": [],
   "source": [
    "## Compute the mean for each feature\n",
    "means = dataset.mean().to_dict()\n",
    "\n",
    "# Impute each null with the mean of that feature\n",
    "for m in means:\n",
    "    dataset[m] = dataset[m].fillna(value=means[m])"
   ]
  },
  {
   "cell_type": "code",
   "execution_count": null,
   "id": "880b005d",
   "metadata": {},
   "outputs": [],
   "source": [
    "##Confirm there are no nulls:"
   ]
  },
  {
   "cell_type": "code",
   "execution_count": null,
   "id": "2b14e141",
   "metadata": {},
   "outputs": [],
   "source": [
    "#dataset.isnull().mean()"
   ]
  },
  {
   "cell_type": "code",
   "execution_count": null,
   "id": "9b634b62",
   "metadata": {},
   "outputs": [],
   "source": [
    "#####PART2"
   ]
  },
  {
   "cell_type": "code",
   "execution_count": null,
   "id": "9f39f37f",
   "metadata": {},
   "outputs": [],
   "source": [
    "##Understand the Data"
   ]
  },
  {
   "cell_type": "code",
   "execution_count": null,
   "id": "d42928e7",
   "metadata": {},
   "outputs": [],
   "source": [
    "#dataset.describe()"
   ]
  },
  {
   "cell_type": "code",
   "execution_count": null,
   "id": "52b755c4",
   "metadata": {},
   "outputs": [],
   "source": [
    "##Visualize"
   ]
  },
  {
   "cell_type": "code",
   "execution_count": null,
   "id": "ee1ab436",
   "metadata": {},
   "outputs": [],
   "source": [
    "#correlationMatrix(dataset)"
   ]
  },
  {
   "cell_type": "code",
   "execution_count": null,
   "id": "895c8cc6",
   "metadata": {},
   "outputs": [],
   "source": [
    "#boxPlotAll(dataset)"
   ]
  },
  {
   "cell_type": "code",
   "execution_count": null,
   "id": "694e611e",
   "metadata": {},
   "outputs": [],
   "source": [
    "###########################PART3"
   ]
  },
  {
   "cell_type": "code",
   "execution_count": null,
   "id": "7a750c8c",
   "metadata": {},
   "outputs": [],
   "source": [
    "##Prepare Data"
   ]
  },
  {
   "cell_type": "code",
   "execution_count": null,
   "id": "73376ede",
   "metadata": {},
   "outputs": [],
   "source": [
    "##Feature Engineering"
   ]
  },
  {
   "cell_type": "code",
   "execution_count": null,
   "id": "8cda1ae3",
   "metadata": {},
   "outputs": [],
   "source": [
    "#dataset = appendEqualCountsClass(dataset, \"lifeexp_band\", \"lifeexp\", 3, [\"L\",\"M\",\"H\"])"
   ]
  },
  {
   "cell_type": "code",
   "execution_count": null,
   "id": "4d3d3bbb",
   "metadata": {},
   "outputs": [],
   "source": [
    "##Let's see if the results were what we expected: three bands with the same number of sample points in each:"
   ]
  },
  {
   "cell_type": "code",
   "execution_count": null,
   "id": "464270bb",
   "metadata": {},
   "outputs": [],
   "source": [
    "#dataset.lifeexp_band.value_counts()"
   ]
  },
  {
   "cell_type": "code",
   "execution_count": null,
   "id": "19e88172",
   "metadata": {},
   "outputs": [],
   "source": [
    "##And let's check a few rows, to confirm it has worked as expected"
   ]
  },
  {
   "cell_type": "code",
   "execution_count": null,
   "id": "29e18012",
   "metadata": {},
   "outputs": [],
   "source": [
    "#dataset[['lifeexp','lifeexp_band']].head()"
   ]
  },
  {
   "cell_type": "code",
   "execution_count": null,
   "id": "b2b02d42",
   "metadata": {},
   "outputs": [],
   "source": [
    "######################Select Features and Split Into Input and Target Features"
   ]
  },
  {
   "cell_type": "code",
   "execution_count": null,
   "id": "3e8b7e9a",
   "metadata": {},
   "outputs": [],
   "source": [
    "##y = dataset[\"lifeexp_band\"]\n",
    "##X = dataset[['happiness', 'income', 'sanitation', 'water', 'literacy', 'inequality', 'energy', 'childmortality', 'fertility', 'hiv', 'foodsupply', 'population']]"
   ]
  },
  {
   "cell_type": "code",
   "execution_count": null,
   "id": "c9502032",
   "metadata": {},
   "outputs": [],
   "source": [
    "###When we ran dataset.describe() above, you saw that the range of values between the min and max was different for different features. Sanitation ranged from 7 to 100, but income ranged from 623 to 120,000. Many algorithms will not perform optimally with data on such vastly different scales. To prevent this, scale the data before building the model. There are a few approaches. In this case, I will use the  MinMaxScaler(), which scales the data so every feature ranges from 0 to 1"
   ]
  },
  {
   "cell_type": "code",
   "execution_count": null,
   "id": "febc5b28",
   "metadata": {},
   "outputs": [],
   "source": [
    "# Rescale the data\n",
    "#scaler = MinMaxScaler(feature_range=(0,1))\n",
    "#rescaledX = scaler.fit_transform(X)\n",
    "\n",
    "# Convert X back to a Pandas DataFrame, for convenience\n",
    "#X = pd.DataFrame(rescaledX, columns=X.columns)"
   ]
  },
  {
   "cell_type": "code",
   "execution_count": null,
   "id": "915de8bb",
   "metadata": {},
   "outputs": [],
   "source": [
    "##Look at what this scaling has done. Every feature now has a min of 0 and a max of 1:"
   ]
  },
  {
   "cell_type": "code",
   "execution_count": null,
   "id": "8f1c008c",
   "metadata": {},
   "outputs": [],
   "source": [
    "## X.describe()"
   ]
  },
  {
   "cell_type": "code",
   "execution_count": null,
   "id": "ae9df958",
   "metadata": {},
   "outputs": [],
   "source": [
    "######Part 4:"
   ]
  },
  {
   "cell_type": "code",
   "execution_count": null,
   "id": "6e6c65fc",
   "metadata": {},
   "outputs": [],
   "source": [
    "#######Build Models"
   ]
  },
  {
   "cell_type": "code",
   "execution_count": null,
   "id": "40c4657d",
   "metadata": {},
   "outputs": [],
   "source": [
    "########Split Into Test and Training Sets"
   ]
  },
  {
   "cell_type": "code",
   "execution_count": null,
   "id": "bb505861",
   "metadata": {},
   "outputs": [],
   "source": [
    "##test_size = 0.33\n",
    "##seed = 1\n",
    "##X_train, X_test, Y_train, Y_test = train_test_split(X, y, test_size=test_size, random_state=seed)"
   ]
  },
  {
   "cell_type": "code",
   "execution_count": null,
   "id": "f3b7751a",
   "metadata": {},
   "outputs": [],
   "source": [
    "##Create Multiple Models, Fit and Check Them"
   ]
  },
  {
   "cell_type": "code",
   "execution_count": null,
   "id": "d9efe7f7",
   "metadata": {},
   "outputs": [],
   "source": [
    "# Build a decision tree model\n",
    "#model_dt = DecisionTreeClassifier()\n",
    "#model_dt.fit(X_train, Y_train)"
   ]
  },
  {
   "cell_type": "code",
   "execution_count": null,
   "id": "c0ee64d6",
   "metadata": {},
   "outputs": [],
   "source": [
    "##Then the logistic regression model:"
   ]
  },
  {
   "cell_type": "code",
   "execution_count": null,
   "id": "676d4d6e",
   "metadata": {},
   "outputs": [],
   "source": [
    "### Build a logistic regression model\n",
    "#model_lr = LogisticRegression(solver='lbfgs', multi_class='auto')\n",
    "#model_lr.fit(X_train, Y_train)"
   ]
  },
  {
   "cell_type": "code",
   "execution_count": null,
   "id": "5cb12ff5",
   "metadata": {},
   "outputs": [],
   "source": [
    "##Check the Models"
   ]
  },
  {
   "cell_type": "code",
   "execution_count": null,
   "id": "667ecf46",
   "metadata": {},
   "outputs": [],
   "source": [
    "# Check the model performance with the training data\n",
    "#predictions_dt = model_dt.predict(X_train)\n",
    "#print(\"DecisionTreeClassifier\", accuracy_score(Y_train, predictions_dt))"
   ]
  },
  {
   "cell_type": "code",
   "execution_count": null,
   "id": "63ca4a9f",
   "metadata": {},
   "outputs": [],
   "source": [
    "### Check the model performance with the training data\n",
    "##predictions_lr = model_lr.predict(X_train)\n",
    "##print(\"LogisticRegression\", accuracy_score(Y_train, predictions_lr))"
   ]
  },
  {
   "cell_type": "code",
   "execution_count": null,
   "id": "ed6bda4b",
   "metadata": {},
   "outputs": [],
   "source": [
    "######Evaluate Models"
   ]
  },
  {
   "cell_type": "code",
   "execution_count": null,
   "id": "54febada",
   "metadata": {},
   "outputs": [],
   "source": [
    "######################Part 5:"
   ]
  },
  {
   "cell_type": "code",
   "execution_count": null,
   "id": "62a3e59d",
   "metadata": {},
   "outputs": [],
   "source": [
    "##Watch this screencast showing the inspection of the models.  Then read the notes below."
   ]
  },
  {
   "cell_type": "code",
   "execution_count": null,
   "id": "f1ebab01",
   "metadata": {},
   "outputs": [],
   "source": [
    "##Inspect the Models"
   ]
  },
  {
   "cell_type": "code",
   "execution_count": null,
   "id": "0a06c1c8",
   "metadata": {},
   "outputs": [],
   "source": [
    "##Decision Tree"
   ]
  },
  {
   "cell_type": "code",
   "execution_count": null,
   "id": "a8d16790",
   "metadata": {},
   "outputs": [],
   "source": [
    "##To run this code, you need to install  graphviz  as described in Part 1.  The  viewDecisionTree()  function can be found in  functions.py."
   ]
  },
  {
   "cell_type": "code",
   "execution_count": null,
   "id": "6afc51a7",
   "metadata": {},
   "outputs": [],
   "source": [
    "#viewDecisionTree(model_dt, X.columns)"
   ]
  },
  {
   "cell_type": "code",
   "execution_count": null,
   "id": "3a1d1438",
   "metadata": {},
   "outputs": [],
   "source": [
    "#####The  decisionTreeSummary()  function can be found in  functions.py.  It uses the  feature_importances_  attribute of the DecisionTreeClassifier."
   ]
  },
  {
   "cell_type": "code",
   "execution_count": null,
   "id": "02610a5e",
   "metadata": {},
   "outputs": [],
   "source": [
    "#decisionTreeSummary(model_dt, X.columns)"
   ]
  },
  {
   "cell_type": "code",
   "execution_count": null,
   "id": "70fb78bc",
   "metadata": {},
   "outputs": [],
   "source": [
    "#####Logistic Regression"
   ]
  },
  {
   "cell_type": "code",
   "execution_count": null,
   "id": "9182059f",
   "metadata": {},
   "outputs": [],
   "source": [
    "#logisticRegressionSummary(model_lr, X.columns)"
   ]
  },
  {
   "cell_type": "code",
   "execution_count": null,
   "id": "0f697b50",
   "metadata": {},
   "outputs": [],
   "source": [
    "##Low sanitation is the most significant indicator of low life expectancy:"
   ]
  },
  {
   "cell_type": "code",
   "execution_count": null,
   "id": "e217bcd5",
   "metadata": {},
   "outputs": [],
   "source": []
  }
 ],
 "metadata": {
  "kernelspec": {
   "display_name": "Python 3",
   "language": "python",
   "name": "python3"
  },
  "language_info": {
   "codemirror_mode": {
    "name": "ipython",
    "version": 3
   },
   "file_extension": ".py",
   "mimetype": "text/x-python",
   "name": "python",
   "nbconvert_exporter": "python",
   "pygments_lexer": "ipython3",
   "version": "3.8.8"
  }
 },
 "nbformat": 4,
 "nbformat_minor": 5
}
