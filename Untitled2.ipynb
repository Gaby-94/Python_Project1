{
 "cells": [
  {
   "cell_type": "code",
   "execution_count": 1,
   "id": "93481f63",
   "metadata": {},
   "outputs": [],
   "source": [
    "import pandas as pd\n",
    "import numpy as np"
   ]
  },
  {
   "cell_type": "code",
   "execution_count": 2,
   "id": "fc18a071",
   "metadata": {},
   "outputs": [],
   "source": [
    "dataset_url = \"https://raw.githubusercontent.com/OpenClassrooms-Student-Center/8063076-Initiez-vous-au-Machine-Learning/master/data/paris-arbres-clean-2023-09-10.csv\""
   ]
  },
  {
   "cell_type": "code",
   "execution_count": 3,
   "id": "edb99a05",
   "metadata": {},
   "outputs": [
    {
     "name": "stderr",
     "output_type": "stream",
     "text": [
      "/home/gabriel/anaconda3/lib/python3.8/site-packages/IPython/core/interactiveshell.py:3165: DtypeWarning: Columns (0,4) have mixed types.Specify dtype option on import or set low_memory=False.\n",
      "  has_raised = await self.run_ast_nodes(code_ast.body, cell_name,\n"
     ]
    }
   ],
   "source": [
    "data = pd.read_csv(dataset_url)"
   ]
  },
  {
   "cell_type": "code",
   "execution_count": 4,
   "id": "8125d33e",
   "metadata": {},
   "outputs": [],
   "source": [
    "df = data[data.libelle_francais == 'Platane'].copy()"
   ]
  },
  {
   "cell_type": "code",
   "execution_count": 6,
   "id": "4d23735f",
   "metadata": {},
   "outputs": [
    {
     "data": {
      "text/html": [
       "<div>\n",
       "<style scoped>\n",
       "    .dataframe tbody tr th:only-of-type {\n",
       "        vertical-align: middle;\n",
       "    }\n",
       "\n",
       "    .dataframe tbody tr th {\n",
       "        vertical-align: top;\n",
       "    }\n",
       "\n",
       "    .dataframe thead th {\n",
       "        text-align: right;\n",
       "    }\n",
       "</style>\n",
       "<table border=\"1\" class=\"dataframe\">\n",
       "  <thead>\n",
       "    <tr style=\"text-align: right;\">\n",
       "      <th></th>\n",
       "      <th>idbase</th>\n",
       "      <th>domanialite</th>\n",
       "      <th>arrondissement</th>\n",
       "      <th>complement_adresse</th>\n",
       "      <th>numero</th>\n",
       "      <th>lieu_adresse</th>\n",
       "      <th>idemplacement</th>\n",
       "      <th>libelle_francais</th>\n",
       "      <th>genre</th>\n",
       "      <th>espece</th>\n",
       "      <th>variete_oucultivar</th>\n",
       "      <th>circonference_cm</th>\n",
       "      <th>hauteur_m</th>\n",
       "      <th>stade_de_developpement</th>\n",
       "      <th>remarquable</th>\n",
       "      <th>geo_point_2d</th>\n",
       "    </tr>\n",
       "  </thead>\n",
       "  <tbody>\n",
       "    <tr>\n",
       "      <th>3</th>\n",
       "      <td>238226</td>\n",
       "      <td>Alignement</td>\n",
       "      <td>PARIS 12E ARRDT</td>\n",
       "      <td>37</td>\n",
       "      <td>NaN</td>\n",
       "      <td>AVENUE DE SAINT MANDE</td>\n",
       "      <td>000501020</td>\n",
       "      <td>Platane</td>\n",
       "      <td>Platanus</td>\n",
       "      <td>x hispanica</td>\n",
       "      <td>NaN</td>\n",
       "      <td>30.0</td>\n",
       "      <td>5.0</td>\n",
       "      <td>Jeune (arbre)</td>\n",
       "      <td>NON</td>\n",
       "      <td>48.84515461889761, 2.4008303350818525</td>\n",
       "    </tr>\n",
       "    <tr>\n",
       "      <th>9</th>\n",
       "      <td>289464</td>\n",
       "      <td>Alignement</td>\n",
       "      <td>PARIS 12E ARRDT</td>\n",
       "      <td>NaN</td>\n",
       "      <td>NaN</td>\n",
       "      <td>AVENUE LEDRU ROLLIN</td>\n",
       "      <td>000402007</td>\n",
       "      <td>Platane</td>\n",
       "      <td>Platanus</td>\n",
       "      <td>x hispanica</td>\n",
       "      <td>NaN</td>\n",
       "      <td>60.0</td>\n",
       "      <td>10.0</td>\n",
       "      <td>Adulte</td>\n",
       "      <td>NON</td>\n",
       "      <td>48.84717970255216, 2.37017013054543</td>\n",
       "    </tr>\n",
       "    <tr>\n",
       "      <th>10</th>\n",
       "      <td>221701</td>\n",
       "      <td>Alignement</td>\n",
       "      <td>PARIS 16E ARRDT</td>\n",
       "      <td>NaN</td>\n",
       "      <td>NaN</td>\n",
       "      <td>BOULEVARD DE L AMIRAL BRUIX</td>\n",
       "      <td>000705007</td>\n",
       "      <td>Platane</td>\n",
       "      <td>Platanus</td>\n",
       "      <td>x hispanica</td>\n",
       "      <td>NaN</td>\n",
       "      <td>68.0</td>\n",
       "      <td>10.0</td>\n",
       "      <td>Jeune (arbre)Adulte</td>\n",
       "      <td>NON</td>\n",
       "      <td>48.87428152523608, 2.2783797113253454</td>\n",
       "    </tr>\n",
       "  </tbody>\n",
       "</table>\n",
       "</div>"
      ],
      "text/plain": [
       "    idbase domanialite   arrondissement complement_adresse numero  \\\n",
       "3   238226  Alignement  PARIS 12E ARRDT                 37    NaN   \n",
       "9   289464  Alignement  PARIS 12E ARRDT                NaN    NaN   \n",
       "10  221701  Alignement  PARIS 16E ARRDT                NaN    NaN   \n",
       "\n",
       "                   lieu_adresse idemplacement libelle_francais     genre  \\\n",
       "3         AVENUE DE SAINT MANDE     000501020          Platane  Platanus   \n",
       "9           AVENUE LEDRU ROLLIN     000402007          Platane  Platanus   \n",
       "10  BOULEVARD DE L AMIRAL BRUIX     000705007          Platane  Platanus   \n",
       "\n",
       "         espece variete_oucultivar  circonference_cm  hauteur_m  \\\n",
       "3   x hispanica                NaN              30.0        5.0   \n",
       "9   x hispanica                NaN              60.0       10.0   \n",
       "10  x hispanica                NaN              68.0       10.0   \n",
       "\n",
       "   stade_de_developpement remarquable                           geo_point_2d  \n",
       "3           Jeune (arbre)         NON  48.84515461889761, 2.4008303350818525  \n",
       "9                  Adulte         NON    48.84717970255216, 2.37017013054543  \n",
       "10    Jeune (arbre)Adulte         NON  48.87428152523608, 2.2783797113253454  "
      ]
     },
     "execution_count": 6,
     "metadata": {},
     "output_type": "execute_result"
    }
   ],
   "source": [
    "df.head(3)"
   ]
  },
  {
   "cell_type": "code",
   "execution_count": 7,
   "id": "4d2edf0a",
   "metadata": {},
   "outputs": [
    {
     "data": {
      "text/plain": [
       "NON    41316\n",
       "OUI       36\n",
       "Name: remarquable, dtype: int64"
      ]
     },
     "execution_count": 7,
     "metadata": {},
     "output_type": "execute_result"
    }
   ],
   "source": [
    "df.remarquable.value_counts()"
   ]
  },
  {
   "cell_type": "code",
   "execution_count": 13,
   "id": "75a57197",
   "metadata": {},
   "outputs": [
    {
     "ename": "NameError",
     "evalue": "name 'NON' is not defined",
     "output_type": "error",
     "traceback": [
      "\u001b[0;31m---------------------------------------------------------------------------\u001b[0m",
      "\u001b[0;31mNameError\u001b[0m                                 Traceback (most recent call last)",
      "\u001b[0;32m<ipython-input-13-3d3e3289f74e>\u001b[0m in \u001b[0;36m<module>\u001b[0;34m\u001b[0m\n\u001b[0;32m----> 1\u001b[0;31m \u001b[0mdf\u001b[0m\u001b[0;34m.\u001b[0m\u001b[0mloc\u001b[0m\u001b[0;34m[\u001b[0m\u001b[0mdf\u001b[0m\u001b[0;34m.\u001b[0m\u001b[0mremarquable\u001b[0m \u001b[0;34m==\u001b[0m \u001b[0mNON\u001b[0m\u001b[0;34m,\u001b[0m \u001b[0;34m'remarquable'\u001b[0m\u001b[0;34m]\u001b[0m \u001b[0;34m=\u001b[0m \u001b[0;36m0\u001b[0m\u001b[0;34m\u001b[0m\u001b[0;34m\u001b[0m\u001b[0m\n\u001b[0m\u001b[1;32m      2\u001b[0m \u001b[0mdf\u001b[0m\u001b[0;34m.\u001b[0m\u001b[0mloc\u001b[0m\u001b[0;34m[\u001b[0m\u001b[0mdf\u001b[0m\u001b[0;34m.\u001b[0m\u001b[0mremarquable\u001b[0m \u001b[0;34m==\u001b[0m \u001b[0mOUI\u001b[0m\u001b[0;34m,\u001b[0m \u001b[0;34m'remarquable'\u001b[0m\u001b[0;34m]\u001b[0m \u001b[0;34m=\u001b[0m \u001b[0;36m1\u001b[0m\u001b[0;34m\u001b[0m\u001b[0;34m\u001b[0m\u001b[0m\n",
      "\u001b[0;31mNameError\u001b[0m: name 'NON' is not defined"
     ]
    }
   ],
   "source": [
    "#df.loc[df.remarquable == NON, 'remarquable'] = 0\n",
    "#df.loc[df.remarquable == OUI, 'remarquable'] = 1"
   ]
  },
  {
   "cell_type": "code",
   "execution_count": 14,
   "id": "4ce66ea9",
   "metadata": {},
   "outputs": [
    {
     "data": {
      "text/plain": [
       "NON    41316\n",
       "OUI       36\n",
       "Name: remarquable, dtype: int64"
      ]
     },
     "execution_count": 14,
     "metadata": {},
     "output_type": "execute_result"
    }
   ],
   "source": [
    "df.remarquable.value_counts()"
   ]
  },
  {
   "cell_type": "code",
   "execution_count": 15,
   "id": "80f26df8",
   "metadata": {},
   "outputs": [],
   "source": [
    "categories = ['Adulte', 'Jeune (arbre)Adulte', 'Jeune (arbre)', 'Mature']\n",
    "for n, categorie in zip(range(1,len(categories)+1), categories):\n",
    "  df.loc[\n",
    "          df.stade_de_developpement == categorie,   \n",
    "          'stade_de_developpement'\n",
    "        ] = n"
   ]
  },
  {
   "cell_type": "code",
   "execution_count": 19,
   "id": "c43697fc",
   "metadata": {},
   "outputs": [],
   "source": [
    "##stade_de_developpement"
   ]
  },
  {
   "cell_type": "code",
   "execution_count": 20,
   "id": "12574e21",
   "metadata": {},
   "outputs": [
    {
     "name": "stdout",
     "output_type": "stream",
     "text": [
      "Collecting category_encoders\n",
      "  Downloading category_encoders-2.6.3-py2.py3-none-any.whl.metadata (8.0 kB)\n",
      "Requirement already satisfied: numpy>=1.14.0 in /home/gabriel/anaconda3/lib/python3.8/site-packages (from category_encoders) (1.20.1)\n",
      "Requirement already satisfied: scikit-learn>=0.20.0 in /home/gabriel/anaconda3/lib/python3.8/site-packages (from category_encoders) (0.24.1)\n",
      "Requirement already satisfied: scipy>=1.0.0 in /home/gabriel/anaconda3/lib/python3.8/site-packages (from category_encoders) (1.6.2)\n",
      "Requirement already satisfied: statsmodels>=0.9.0 in /home/gabriel/anaconda3/lib/python3.8/site-packages (from category_encoders) (0.12.2)\n",
      "Requirement already satisfied: pandas>=1.0.5 in /home/gabriel/anaconda3/lib/python3.8/site-packages (from category_encoders) (1.2.4)\n",
      "Requirement already satisfied: patsy>=0.5.1 in /home/gabriel/anaconda3/lib/python3.8/site-packages (from category_encoders) (0.5.1)\n",
      "Collecting importlib-resources (from category_encoders)\n",
      "  Downloading importlib_resources-6.1.1-py3-none-any.whl.metadata (4.1 kB)\n",
      "Requirement already satisfied: python-dateutil>=2.7.3 in /home/gabriel/anaconda3/lib/python3.8/site-packages (from pandas>=1.0.5->category_encoders) (2.8.1)\n",
      "Requirement already satisfied: pytz>=2017.3 in /home/gabriel/anaconda3/lib/python3.8/site-packages (from pandas>=1.0.5->category_encoders) (2021.1)\n",
      "Requirement already satisfied: six in /home/gabriel/anaconda3/lib/python3.8/site-packages (from patsy>=0.5.1->category_encoders) (1.15.0)\n",
      "Requirement already satisfied: joblib>=0.11 in /home/gabriel/anaconda3/lib/python3.8/site-packages (from scikit-learn>=0.20.0->category_encoders) (1.0.1)\n",
      "Requirement already satisfied: threadpoolctl>=2.0.0 in /home/gabriel/anaconda3/lib/python3.8/site-packages (from scikit-learn>=0.20.0->category_encoders) (2.1.0)\n",
      "Requirement already satisfied: zipp>=3.1.0 in /home/gabriel/anaconda3/lib/python3.8/site-packages (from importlib-resources->category_encoders) (3.4.1)\n",
      "Downloading category_encoders-2.6.3-py2.py3-none-any.whl (81 kB)\n",
      "\u001b[2K   \u001b[38;2;114;156;31m━━━━━━━━━━━━━━━━━━━━━━━━━━━━━━━━━━━━━━━━\u001b[0m \u001b[32m81.9/81.9 kB\u001b[0m \u001b[31m592.8 kB/s\u001b[0m eta \u001b[36m0:00:00\u001b[0mB/s\u001b[0m eta \u001b[36m0:00:01\u001b[0m\n",
      "\u001b[?25hDownloading importlib_resources-6.1.1-py3-none-any.whl (33 kB)\n",
      "\u001b[33mDEPRECATION: pyodbc 4.0.0-unsupported has a non-standard version number. pip 24.0 will enforce this behaviour change. A possible replacement is to upgrade to a newer version of pyodbc or contact the author to suggest that they release a version with a conforming version number. Discussion can be found at https://github.com/pypa/pip/issues/12063\u001b[0m\u001b[33m\n",
      "\u001b[0mInstalling collected packages: importlib-resources, category_encoders\n",
      "Successfully installed category_encoders-2.6.3 importlib-resources-6.1.1\n",
      "\n",
      "\u001b[1m[\u001b[0m\u001b[34;49mnotice\u001b[0m\u001b[1;39;49m]\u001b[0m\u001b[39;49m A new release of pip is available: \u001b[0m\u001b[31;49m23.3.1\u001b[0m\u001b[39;49m -> \u001b[0m\u001b[32;49m23.3.2\u001b[0m\n",
      "\u001b[1m[\u001b[0m\u001b[34;49mnotice\u001b[0m\u001b[1;39;49m]\u001b[0m\u001b[39;49m To update, run: \u001b[0m\u001b[32;49mpip install --upgrade pip\u001b[0m\n"
     ]
    }
   ],
   "source": [
    "!pip install category_encoders"
   ]
  },
  {
   "cell_type": "code",
   "execution_count": 21,
   "id": "c756999e",
   "metadata": {},
   "outputs": [],
   "source": [
    "##Pour encoder des catégories ordinales, nous utilisons la classe OrdinalEncoder.\n",
    "\n",
    "##Pour que l'ordre des catégories soit respecté dans l'encodage, \n",
    "##il faut donner un mapping explicite à la fonction  fit()  comme ceci :"
   ]
  },
  {
   "cell_type": "code",
   "execution_count": 22,
   "id": "0f3d8b5c",
   "metadata": {},
   "outputs": [
    {
     "data": {
      "text/plain": [
       "stade_de_developpement\n",
       "-1.0                      39238\n",
       " 0.0                       3350\n",
       "dtype: int64"
      ]
     },
     "execution_count": 22,
     "metadata": {},
     "output_type": "execute_result"
    }
   ],
   "source": [
    "from category_encoders.ordinal import OrdinalEncoder\n",
    "mapping =[ {'col': 'stade_de_developpement',\n",
    "'mapping': {\n",
    "            np.nan: 0,\n",
    "            'Jeune (arbre)': 1,\n",
    "            'Jeune (arbre)Adulte': 2,\n",
    "            'Adulte': 3,\n",
    "            'Mature': 4\n",
    "            }\n",
    "        } ]\n",
    "\n",
    "encoder = OrdinalEncoder(mapping=mapping)\n",
    "stade = encoder.fit_transform(df.stade_de_developpement)\n",
    "stade.value_counts()"
   ]
  },
  {
   "cell_type": "code",
   "execution_count": 23,
   "id": "5e2cce99",
   "metadata": {},
   "outputs": [],
   "source": [
    "#On remplace ensuite les catégories originales par leur équivalents numériques :"
   ]
  },
  {
   "cell_type": "code",
   "execution_count": 24,
   "id": "45963f57",
   "metadata": {},
   "outputs": [],
   "source": [
    "df['stade_de_developpement'] = stade.copy()"
   ]
  },
  {
   "cell_type": "code",
   "execution_count": 25,
   "id": "7a5b84d0",
   "metadata": {},
   "outputs": [],
   "source": [
    "#Et les stades de développement sont maintenant numérisés "
   ]
  },
  {
   "cell_type": "code",
   "execution_count": 26,
   "id": "0518a454",
   "metadata": {},
   "outputs": [
    {
     "data": {
      "text/plain": [
       "-1.0    39238\n",
       " 0.0     3350\n",
       "Name: stade_de_developpement, dtype: int64"
      ]
     },
     "execution_count": 26,
     "metadata": {},
     "output_type": "execute_result"
    }
   ],
   "source": [
    "df['stade_de_developpement'].value_counts(dropna = False)"
   ]
  },
  {
   "cell_type": "code",
   "execution_count": 28,
   "id": "4664d01a",
   "metadata": {},
   "outputs": [],
   "source": [
    "##stade_de_developpement"
   ]
  },
  {
   "cell_type": "code",
   "execution_count": 29,
   "id": "7bbc8d9a",
   "metadata": {},
   "outputs": [],
   "source": [
    "#L'encodage one-hot"
   ]
  },
  {
   "cell_type": "code",
   "execution_count": 30,
   "id": "2ae9dda5",
   "metadata": {},
   "outputs": [],
   "source": [
    "#Pour que l'exemple soit plus clair, ne gardons que les arbres des 3 domanialités les plus fréquentes :"
   ]
  },
  {
   "cell_type": "code",
   "execution_count": 31,
   "id": "f4aa67af",
   "metadata": {},
   "outputs": [],
   "source": [
    "df = df [df.domanialite.isin(['Alignement', 'Jardin', 'CIMETIERE'])].copy()\n",
    "df.reset_index(drop = True, inplace = True)"
   ]
  },
  {
   "cell_type": "code",
   "execution_count": 32,
   "id": "8d8e1ae8",
   "metadata": {},
   "outputs": [],
   "source": [
    "#On va créer 2 variables booléennes :  is_alignement  et  is_jardin  , telles que :"
   ]
  },
  {
   "cell_type": "code",
   "execution_count": 35,
   "id": "85741495",
   "metadata": {},
   "outputs": [],
   "source": [
    "#is_alignement =  1 if (domanialite == 'Alignement') else 0\n",
    "#is_jardin =  1 if (domanialite == 'Jardin') else 0"
   ]
  },
  {
   "cell_type": "code",
   "execution_count": 37,
   "id": "951bc570",
   "metadata": {},
   "outputs": [],
   "source": [
    "#domanialite = CIMETIERE si is_alignement =0 et is_jardin = 0"
   ]
  },
  {
   "cell_type": "code",
   "execution_count": 38,
   "id": "2f4926c1",
   "metadata": {},
   "outputs": [],
   "source": [
    "##Cette technique qui s'appelle one_hot_encoding est implémentée dans scikit-learn dans le module preprocessing."
   ]
  },
  {
   "cell_type": "code",
   "execution_count": 39,
   "id": "7f66d93a",
   "metadata": {},
   "outputs": [
    {
     "data": {
      "text/plain": [
       "(40906, 3)"
      ]
     },
     "execution_count": 39,
     "metadata": {},
     "output_type": "execute_result"
    }
   ],
   "source": [
    "from sklearn import preprocessing\n",
    "enc = preprocessing.OneHotEncoder()\n",
    "labels = enc.fit_transform(df.domanialite.values.reshape(-1, 1)).toarray()\n",
    "labels.shape\n",
    "(40906, 3)"
   ]
  },
  {
   "cell_type": "code",
   "execution_count": 40,
   "id": "dddffe6a",
   "metadata": {},
   "outputs": [],
   "source": [
    "#On a donc 3 colonnes correspondant aux 3 valeurs de domanialité.\n",
    "\n",
    "#Il faut ensuite intégrer 2 de ces 3 colonnes (la 3e est redondante) et supprimer la colonne originale\n",
    "#avec un peu de manipulation de pandas.dataframe."
   ]
  },
  {
   "cell_type": "code",
   "execution_count": 41,
   "id": "e7b1a8c7",
   "metadata": {},
   "outputs": [],
   "source": [
    "df = pd.concat([df,\n",
    "        pd.DataFrame(columns = ['is_alignement','is_jardin'],\n",
    "                      data = labels[:, :2])],\n",
    "        axis = 1)"
   ]
  },
  {
   "cell_type": "code",
   "execution_count": 42,
   "id": "36025b20",
   "metadata": {},
   "outputs": [],
   "source": [
    "#\"En conclusion, le one hot encoding n'est réellement utilisable que lorsque le nombre de valeurs \n",
    "##de la variable à numériser est faible par rapport aux nombre de variables utiles du dataset."
   ]
  },
  {
   "cell_type": "code",
   "execution_count": 43,
   "id": "45d84217",
   "metadata": {},
   "outputs": [],
   "source": [
    "#\"L'encodage binaire"
   ]
  },
  {
   "cell_type": "code",
   "execution_count": 44,
   "id": "0b350571",
   "metadata": {},
   "outputs": [],
   "source": [
    "##Pour sortir du piège de la dimensionnalité, ma technique préférée de numérisation est \n",
    "##l'encodage binaire disponible dans l'excellente librairie  category_encoders  ."
   ]
  },
  {
   "cell_type": "code",
   "execution_count": 45,
   "id": "a8bd9fd5",
   "metadata": {},
   "outputs": [],
   "source": [
    "##L'énorme avantage de l’encodage binaire sur le one hot encoding est la réduction drastique du \n",
    "##nombre de variables nécessaires pour encoder la variable catégorique originale."
   ]
  },
  {
   "cell_type": "code",
   "execution_count": 53,
   "id": "daad3df1",
   "metadata": {},
   "outputs": [
    {
     "data": {
      "text/html": [
       "<div>\n",
       "<style scoped>\n",
       "    .dataframe tbody tr th:only-of-type {\n",
       "        vertical-align: middle;\n",
       "    }\n",
       "\n",
       "    .dataframe tbody tr th {\n",
       "        vertical-align: top;\n",
       "    }\n",
       "\n",
       "    .dataframe thead th {\n",
       "        text-align: right;\n",
       "    }\n",
       "</style>\n",
       "<table border=\"1\" class=\"dataframe\">\n",
       "  <thead>\n",
       "    <tr style=\"text-align: right;\">\n",
       "      <th></th>\n",
       "      <th>espece_0</th>\n",
       "      <th>espece_1</th>\n",
       "      <th>espece_2</th>\n",
       "      <th>espece_3</th>\n",
       "      <th>espece_4</th>\n",
       "      <th>espece_5</th>\n",
       "      <th>espece_6</th>\n",
       "      <th>espece_7</th>\n",
       "      <th>espece_8</th>\n",
       "      <th>espece_9</th>\n",
       "    </tr>\n",
       "  </thead>\n",
       "  <tbody>\n",
       "    <tr>\n",
       "      <th>0</th>\n",
       "      <td>0</td>\n",
       "      <td>0</td>\n",
       "      <td>0</td>\n",
       "      <td>0</td>\n",
       "      <td>0</td>\n",
       "      <td>0</td>\n",
       "      <td>0</td>\n",
       "      <td>0</td>\n",
       "      <td>0</td>\n",
       "      <td>1</td>\n",
       "    </tr>\n",
       "    <tr>\n",
       "      <th>1</th>\n",
       "      <td>0</td>\n",
       "      <td>0</td>\n",
       "      <td>0</td>\n",
       "      <td>0</td>\n",
       "      <td>0</td>\n",
       "      <td>0</td>\n",
       "      <td>0</td>\n",
       "      <td>0</td>\n",
       "      <td>1</td>\n",
       "      <td>0</td>\n",
       "    </tr>\n",
       "    <tr>\n",
       "      <th>2</th>\n",
       "      <td>0</td>\n",
       "      <td>0</td>\n",
       "      <td>0</td>\n",
       "      <td>0</td>\n",
       "      <td>0</td>\n",
       "      <td>0</td>\n",
       "      <td>0</td>\n",
       "      <td>0</td>\n",
       "      <td>1</td>\n",
       "      <td>1</td>\n",
       "    </tr>\n",
       "    <tr>\n",
       "      <th>3</th>\n",
       "      <td>0</td>\n",
       "      <td>0</td>\n",
       "      <td>0</td>\n",
       "      <td>0</td>\n",
       "      <td>0</td>\n",
       "      <td>0</td>\n",
       "      <td>0</td>\n",
       "      <td>1</td>\n",
       "      <td>0</td>\n",
       "      <td>0</td>\n",
       "    </tr>\n",
       "    <tr>\n",
       "      <th>4</th>\n",
       "      <td>0</td>\n",
       "      <td>0</td>\n",
       "      <td>0</td>\n",
       "      <td>0</td>\n",
       "      <td>0</td>\n",
       "      <td>0</td>\n",
       "      <td>0</td>\n",
       "      <td>1</td>\n",
       "      <td>0</td>\n",
       "      <td>1</td>\n",
       "    </tr>\n",
       "  </tbody>\n",
       "</table>\n",
       "</div>"
      ],
      "text/plain": [
       "   espece_0  espece_1  espece_2  espece_3  espece_4  espece_5  espece_6  \\\n",
       "0         0         0         0         0         0         0         0   \n",
       "1         0         0         0         0         0         0         0   \n",
       "2         0         0         0         0         0         0         0   \n",
       "3         0         0         0         0         0         0         0   \n",
       "4         0         0         0         0         0         0         0   \n",
       "\n",
       "   espece_7  espece_8  espece_9  \n",
       "0         0         0         1  \n",
       "1         0         1         0  \n",
       "2         0         1         1  \n",
       "3         1         0         0  \n",
       "4         1         0         1  "
      ]
     },
     "execution_count": 53,
     "metadata": {},
     "output_type": "execute_result"
    }
   ],
   "source": [
    "from category_encoders.binary import BinaryEncoder\n",
    "encoder = BinaryEncoder()\n",
    "espece_bin = encoder.fit_transform(data.espece)\n",
    "espece_bin.shape\n",
    "espece_bin.head()"
   ]
  },
  {
   "cell_type": "code",
   "execution_count": null,
   "id": "53fb7779",
   "metadata": {},
   "outputs": [],
   "source": [
    "#Le Feature Engineering"
   ]
  },
  {
   "cell_type": "code",
   "execution_count": 54,
   "id": "22ecfebc",
   "metadata": {},
   "outputs": [],
   "source": [
    "#En résumé"
   ]
  },
  {
   "cell_type": "code",
   "execution_count": null,
   "id": "71b9e3fd",
   "metadata": {},
   "outputs": [],
   "source": [
    " #   Les variables catégoriques textuelles doivent être numérisées pour être compatibles avec le modèle.\n",
    "\n",
    "  #  La méthode la plus simple est l'encodage ordinal qui associe un entier à chaque catégorie. Il peut cependant induire un ordre qui n'est pas présent dans la variable originale.\n",
    "\n",
    "  #  L'encodage One Hot crée une nouvelle variable booléenne par valeur de la variable catégorique originale. \n",
    "\n",
    "  #  Lorsque la variable catégorique originale prend beaucoup de valeurs, l'encodage One Hot va créer trop de nouvelles variables qui vont noyer l'information contenue dans les autres variables du dataset.\n",
    "\n",
    "  #  Une alternative consiste à appliquer l'encodage binaire, qui réduit fortement le nombre de variables supplémentaires qui sont nécessaires à l'encodage."
   ]
  }
 ],
 "metadata": {
  "kernelspec": {
   "display_name": "Python 3",
   "language": "python",
   "name": "python3"
  },
  "language_info": {
   "codemirror_mode": {
    "name": "ipython",
    "version": 3
   },
   "file_extension": ".py",
   "mimetype": "text/x-python",
   "name": "python",
   "nbconvert_exporter": "python",
   "pygments_lexer": "ipython3",
   "version": "3.8.8"
  }
 },
 "nbformat": 4,
 "nbformat_minor": 5
}
